{
 "cells": [
  {
   "cell_type": "markdown",
   "id": "08996110",
   "metadata": {},
   "source": [
    "# Description des colonnes (Explication par : Gemini 2.0 Flash)\n",
    "\n",
    "**Identifiants et références croisées :**\n",
    "\n",
    "*   **Catalog:** Désignation de l'étoile dans un catalogue stellaire spécifique.\n",
    "*   **HIP:** Numéro de catalogue Hipparcos (identifiant unique pour chaque étoile du catalogue Hipparcos).\n",
    "*   **Proxy:** Indique une possible entrée en double dans le catalogue.\n",
    "*   **HD, BD, CoD, CPD:** Références croisées à d'autres catalogues d'étoiles (Henry Draper, Bonner Durchmusterung, Cordoba Durchmusterung, Cape Photographic Durchmusterung).\n",
    "*   **CCDM:** Identifiant du Catalogue des composantes d'étoiles doubles et multiples.\n",
    "*   **Nsys:** Nombre de systèmes dont cette étoile fait partie.\n",
    "*   **Ncomp:** Nombre de composantes dans le système.\n",
    "\n",
    "**Données astrométriques :**\n",
    "\n",
    "*   **RAhms, DEdms:** Ascension droite et déclinaison en heures, minutes, secondes et degrés, minutes d'arc, secondes d'arc.\n",
    "*   **RAdeg, DEdeg:** Ascension droite et déclinaison en degrés décimaux.\n",
    "*   **Plx:** Parallaxe (en millièmes de seconde d'arc), une mesure de la distance de l'étoile.\n",
    "*   **pmRA, pmDE:** Mouvement propre en ascension droite et déclinaison (mas/an), indiquant le mouvement de l'étoile dans le ciel.\n",
    "*   **e\\_RAdeg, e\\_DEdeg, e\\_Plx, e\\_pmRA, e\\_pmDE:** Erreurs standard pour RA, Dec, Parallaxe et mouvements propres.\n",
    "*   **DE:RA, Plx:RA, Plx:DE, pmRA:RA, pmRA:DE, pmRA:Plx, pmDE:RA, pmDE:DE, pmDE:Plx, pmDE:pmRA:** Coefficients de corrélation entre les paramètres astrométriques.\n",
    "*   **AstroRef:** Référence pour les données astrométriques.\n",
    "\n",
    "**Données photométriques (Luminosité/Magnitude) :**\n",
    "\n",
    "*   **Vmag:** Magnitude visuelle (luminosité dans le spectre visible).\n",
    "*   **BTmag, VTmag:** Magnitudes B et V du catalogue Tycho.\n",
    "*   **Hpmag:** Magnitude Hipparcos (luminosité mesurée par le satellite Hipparcos).\n",
    "*   **B-V, V-I:** Indices de couleur (différences de magnitude entre différents filtres, liées à la température de l'étoile).\n",
    "*   **e\\_BTmag, e\\_VTmag, e\\_Hpmag, e\\_B-V, e\\_V-I:** Erreurs standard pour les magnitudes et les indices de couleur.\n",
    "*   **r\\_Vmag, r\\_B-V, r\\_V-I:** Indicateurs signalant la fiabilité/qualité des mesures de magnitude et d'indice de couleur.\n",
    "*   **CombMag:** Magnitude combinée.\n",
    "\n",
    "**Informations sur la variabilité :**\n",
    "\n",
    "*   **VarFlag:** Indicateur signalant la variabilité de la luminosité de l'étoile.\n",
    "*   **Hpscat:** Dispersion de la magnitude Hipparcos.\n",
    "*   **o\\_Hpmag:** Nombre d'observations pour Hpmag.\n",
    "*   **Hpmax, HPmin:** Magnitude Hipparcos maximale et minimale.\n",
    "*   **Period:** Période de variabilité (si l'étoile est variable).\n",
    "*   **HvarType:** Type de variabilité (par exemple, Céphéide, Binaire à éclipses).\n",
    "*   **moreVar, morePhoto:** Indicateurs signalant des données de variabilité ou photométriques supplémentaires.\n",
    "\n",
    "**Autres indicateurs et informations :**\n",
    "\n",
    "*   **MultFlag:** Indicateur signalant si l'étoile est un système d'étoiles multiples.\n",
    "*   **Source:** Source des données.\n",
    "*   **Qual:** Indicateur de qualité pour les données.\n",
    "*   **m\\_HIP, m\\_BTmag, m\\_Hpmag:** Indicateurs signalant la source des données.\n",
    "*   **theta, rho, e\\_rho:** Angle de position et séparation pour les étoiles doubles/multiples.\n",
    "*   **dHp, e\\_dHp:** Différence entre Hpmag et la magnitude prédite.\n",
    "*   **Survey, Chart, Notes:** Références à des relevés, cartes et notes.\n",
    "*   **SpType:** Type spectral (classification de l'étoile basée sur son spectre).\n",
    "*   **(V-I)red:** Indice de couleur sans rougissement.\n",
    "*   **r\\_SpType:** Indicateur signalant la fiabilité/qualité du type spectral.\n",
    "*   **F1, F2, ---:** Colonnes inconnues.\n"
   ]
  },
  {
   "cell_type": "code",
   "execution_count": 77,
   "id": "fca1cabd",
   "metadata": {},
   "outputs": [],
   "source": [
    "import seaborn as sns\n",
    "import math\n",
    "import matplotlib.pyplot as plt"
   ]
  },
  {
   "cell_type": "code",
   "execution_count": 78,
   "id": "2f868560",
   "metadata": {},
   "outputs": [
    {
     "data": {
      "application/vnd.microsoft.datawrangler.viewer.v0+json": {
       "columns": [
        {
         "name": "index",
         "rawType": "int64",
         "type": "integer"
        },
        {
         "name": "Catalog",
         "rawType": "object",
         "type": "string"
        },
        {
         "name": "HIP",
         "rawType": "int64",
         "type": "integer"
        },
        {
         "name": "Proxy",
         "rawType": "object",
         "type": "unknown"
        },
        {
         "name": "RAhms",
         "rawType": "object",
         "type": "string"
        },
        {
         "name": "DEdms",
         "rawType": "object",
         "type": "string"
        },
        {
         "name": "Vmag",
         "rawType": "float64",
         "type": "float"
        },
        {
         "name": "VarFlag",
         "rawType": "float64",
         "type": "float"
        },
        {
         "name": "r_Vmag",
         "rawType": "object",
         "type": "string"
        },
        {
         "name": "RAdeg",
         "rawType": "float64",
         "type": "float"
        },
        {
         "name": "DEdeg",
         "rawType": "float64",
         "type": "float"
        },
        {
         "name": "AstroRef",
         "rawType": "object",
         "type": "unknown"
        },
        {
         "name": "Plx",
         "rawType": "float64",
         "type": "float"
        },
        {
         "name": "pmRA",
         "rawType": "float64",
         "type": "float"
        },
        {
         "name": "pmDE",
         "rawType": "float64",
         "type": "float"
        },
        {
         "name": "e_RAdeg",
         "rawType": "float64",
         "type": "float"
        },
        {
         "name": "e_DEdeg",
         "rawType": "float64",
         "type": "float"
        },
        {
         "name": "e_Plx",
         "rawType": "float64",
         "type": "float"
        },
        {
         "name": "e_pmRA",
         "rawType": "float64",
         "type": "float"
        },
        {
         "name": "e_pmDE",
         "rawType": "float64",
         "type": "float"
        },
        {
         "name": "DE:RA",
         "rawType": "float64",
         "type": "float"
        },
        {
         "name": "Plx:RA",
         "rawType": "float64",
         "type": "float"
        },
        {
         "name": "Plx:DE",
         "rawType": "float64",
         "type": "float"
        },
        {
         "name": "pmRA:RA",
         "rawType": "float64",
         "type": "float"
        },
        {
         "name": "pmRA:DE",
         "rawType": "float64",
         "type": "float"
        },
        {
         "name": "pmRA:Plx",
         "rawType": "float64",
         "type": "float"
        },
        {
         "name": "pmDE:RA",
         "rawType": "float64",
         "type": "float"
        },
        {
         "name": "pmDE:DE",
         "rawType": "float64",
         "type": "float"
        },
        {
         "name": "pmDE:Plx",
         "rawType": "float64",
         "type": "float"
        },
        {
         "name": "pmDE:pmRA",
         "rawType": "float64",
         "type": "float"
        },
        {
         "name": "F1",
         "rawType": "float64",
         "type": "float"
        },
        {
         "name": "F2",
         "rawType": "float64",
         "type": "float"
        },
        {
         "name": "---",
         "rawType": "int64",
         "type": "integer"
        },
        {
         "name": "BTmag",
         "rawType": "float64",
         "type": "float"
        },
        {
         "name": "e_BTmag",
         "rawType": "float64",
         "type": "float"
        },
        {
         "name": "VTmag",
         "rawType": "float64",
         "type": "float"
        },
        {
         "name": "e_VTmag",
         "rawType": "float64",
         "type": "float"
        },
        {
         "name": "m_BTmag",
         "rawType": "object",
         "type": "unknown"
        },
        {
         "name": "B-V",
         "rawType": "float64",
         "type": "float"
        },
        {
         "name": "e_B-V",
         "rawType": "float64",
         "type": "float"
        },
        {
         "name": "r_B-V",
         "rawType": "object",
         "type": "string"
        },
        {
         "name": "V-I",
         "rawType": "float64",
         "type": "float"
        },
        {
         "name": "e_V-I",
         "rawType": "float64",
         "type": "float"
        },
        {
         "name": "r_V-I",
         "rawType": "object",
         "type": "string"
        },
        {
         "name": "CombMag",
         "rawType": "object",
         "type": "unknown"
        },
        {
         "name": "Hpmag",
         "rawType": "float64",
         "type": "float"
        },
        {
         "name": "e_Hpmag",
         "rawType": "float64",
         "type": "float"
        },
        {
         "name": "Hpscat",
         "rawType": "float64",
         "type": "float"
        },
        {
         "name": "o_Hpmag",
         "rawType": "float64",
         "type": "float"
        },
        {
         "name": "m_Hpmag",
         "rawType": "object",
         "type": "unknown"
        },
        {
         "name": "Hpmax",
         "rawType": "float64",
         "type": "float"
        },
        {
         "name": "HPmin",
         "rawType": "float64",
         "type": "float"
        },
        {
         "name": "Period",
         "rawType": "float64",
         "type": "float"
        },
        {
         "name": "HvarType",
         "rawType": "object",
         "type": "unknown"
        },
        {
         "name": "moreVar",
         "rawType": "float64",
         "type": "float"
        },
        {
         "name": "morePhoto",
         "rawType": "object",
         "type": "unknown"
        },
        {
         "name": "CCDM",
         "rawType": "object",
         "type": "unknown"
        },
        {
         "name": "n_CCDM",
         "rawType": "object",
         "type": "unknown"
        },
        {
         "name": "Nsys",
         "rawType": "float64",
         "type": "float"
        },
        {
         "name": "Ncomp",
         "rawType": "float64",
         "type": "float"
        },
        {
         "name": "MultFlag",
         "rawType": "object",
         "type": "unknown"
        },
        {
         "name": "Source",
         "rawType": "object",
         "type": "unknown"
        },
        {
         "name": "Qual",
         "rawType": "object",
         "type": "unknown"
        },
        {
         "name": "m_HIP",
         "rawType": "object",
         "type": "unknown"
        },
        {
         "name": "theta",
         "rawType": "float64",
         "type": "float"
        },
        {
         "name": "rho",
         "rawType": "float64",
         "type": "float"
        },
        {
         "name": "e_rho",
         "rawType": "float64",
         "type": "float"
        },
        {
         "name": "dHp",
         "rawType": "float64",
         "type": "float"
        },
        {
         "name": "e_dHp",
         "rawType": "float64",
         "type": "float"
        },
        {
         "name": "Survey",
         "rawType": "object",
         "type": "unknown"
        },
        {
         "name": "Chart",
         "rawType": "object",
         "type": "unknown"
        },
        {
         "name": "Notes",
         "rawType": "object",
         "type": "unknown"
        },
        {
         "name": "HD",
         "rawType": "float64",
         "type": "float"
        },
        {
         "name": "BD",
         "rawType": "object",
         "type": "unknown"
        },
        {
         "name": "CoD",
         "rawType": "object",
         "type": "unknown"
        },
        {
         "name": "CPD",
         "rawType": "object",
         "type": "unknown"
        },
        {
         "name": "(V-I)red",
         "rawType": "float64",
         "type": "float"
        },
        {
         "name": "SpType",
         "rawType": "object",
         "type": "string"
        },
        {
         "name": "r_SpType",
         "rawType": "object",
         "type": "string"
        }
       ],
       "ref": "3169d38b-1185-47fd-85d4-d576d2840591",
       "rows": [
        [
         "0",
         "H",
         "1",
         null,
         "00 00 00.22",
         "+01 05 20.4",
         "9.1",
         null,
         "H",
         "0.00091185",
         "1.08901332",
         null,
         "3.54",
         "-5.2",
         "-1.88",
         "1.32",
         "0.74",
         "1.39",
         "1.36",
         "0.81",
         "0.32",
         "-0.07",
         "-0.11",
         "-0.24",
         "0.09",
         "-0.01",
         "0.1",
         "-0.01",
         "0.01",
         "0.34",
         "0.0",
         "0.74",
         "1",
         "9.643",
         "0.02",
         "9.13",
         "0.019",
         null,
         "0.482",
         "0.025",
         "T",
         "0.55",
         "0.03",
         "L",
         null,
         "9.2043",
         "0.002",
         "0.017",
         "87.0",
         null,
         "9.17",
         "9.24",
         null,
         null,
         null,
         null,
         null,
         null,
         null,
         "1.0",
         null,
         null,
         null,
         null,
         null,
         null,
         null,
         null,
         null,
         "S",
         null,
         null,
         "224700.0",
         "B+00 5077",
         null,
         null,
         "0.66",
         "F5",
         "S"
        ],
        [
         "1",
         "H",
         "2",
         null,
         "00 00 00.91",
         "-19 29 55.8",
         "9.27",
         null,
         "G",
         "0.00379737",
         "-19.49883745",
         "+",
         "21.9",
         "181.21",
         "-0.93",
         "1.28",
         "0.7",
         "3.1",
         "1.74",
         "0.92",
         "0.12",
         "-0.14",
         "-0.24",
         "-0.29",
         "0.01",
         "0.21",
         "-0.02",
         "-0.19",
         "-0.28",
         "0.14",
         "2.0",
         "1.45",
         "2",
         "10.519",
         "0.033",
         "9.378",
         "0.021",
         null,
         "0.999",
         "0.002",
         "G",
         "1.04",
         "0.0",
         "I",
         null,
         "9.4017",
         "0.0017",
         "0.015",
         "120.0",
         null,
         "9.37",
         "9.44",
         null,
         "C",
         null,
         null,
         null,
         null,
         null,
         "1.0",
         "O",
         null,
         null,
         null,
         null,
         null,
         null,
         null,
         null,
         null,
         null,
         null,
         "224690.0",
         "B-20 6688",
         null,
         null,
         "1.04",
         "K3V",
         "4"
        ],
        [
         "2",
         "H",
         "3",
         null,
         "00 00 01.20",
         "+38 51 33.4",
         "6.61",
         null,
         "G",
         "0.00500795",
         "38.85928608",
         null,
         "2.81",
         "5.24",
         "-2.91",
         "0.53",
         "0.4",
         "0.63",
         "0.57",
         "0.47",
         "0.06",
         "0.09",
         "0.04",
         "0.43",
         "-0.01",
         "-0.06",
         "0.03",
         "0.24",
         "0.07",
         "0.21",
         "0.0",
         "-0.45",
         "3",
         "6.576",
         "0.004",
         "6.621",
         "0.005",
         null,
         "-0.019",
         "0.004",
         "G",
         "0.0",
         "0.0",
         "H",
         null,
         "6.6081",
         "0.0007",
         "0.008",
         "127.0",
         null,
         "6.6",
         "6.62",
         null,
         "C",
         null,
         null,
         "00000+3852",
         "I",
         "1.0",
         "1.0",
         null,
         null,
         null,
         null,
         null,
         null,
         null,
         null,
         null,
         "S",
         null,
         null,
         "224699.0",
         "B+38 5108",
         null,
         null,
         "0.0",
         "B9",
         "S"
        ],
        [
         "3",
         "H",
         "4",
         null,
         "00 00 02.01",
         "-51 53 36.8",
         "8.06",
         null,
         "H",
         "0.0083817",
         "-51.89354612",
         null,
         "7.75",
         "62.85",
         "0.16",
         "0.53",
         "0.59",
         "0.97",
         "0.65",
         "0.65",
         "-0.22",
         "-0.09",
         "-0.03",
         "0.24",
         "0.2",
         "0.08",
         "0.18",
         "0.08",
         "-0.31",
         "-0.18",
         "0.0",
         "-1.46",
         "4",
         "8.471",
         "0.007",
         "8.092",
         "0.007",
         null,
         "0.37",
         "0.009",
         "T",
         "0.43",
         "0.01",
         "L",
         null,
         "8.1498",
         "0.0011",
         "0.015",
         "201.0",
         null,
         "8.12",
         "8.18",
         null,
         null,
         null,
         null,
         null,
         null,
         null,
         "1.0",
         null,
         null,
         null,
         null,
         null,
         null,
         null,
         null,
         null,
         "S",
         null,
         null,
         "224707.0",
         null,
         null,
         "P-52 12237",
         "0.43",
         "F0V",
         "2"
        ],
        [
         "4",
         "H",
         "5",
         null,
         "00 00 02.39",
         "-40 35 28.4",
         "8.55",
         null,
         "H",
         "0.00996534",
         "-40.5912244",
         null,
         "2.87",
         "2.53",
         "9.07",
         "0.64",
         "0.61",
         "1.11",
         "0.67",
         "0.74",
         "0.1",
         "0.24",
         "0.06",
         "0.26",
         "-0.1",
         "0.2",
         "-0.16",
         "-0.3",
         "-0.19",
         "0.06",
         "0.0",
         "-1.24",
         "5",
         "9.693",
         "0.014",
         "8.656",
         "0.01",
         null,
         "0.902",
         "0.013",
         "T",
         "0.9",
         "0.01",
         "L",
         null,
         "8.7077",
         "0.0018",
         "0.019",
         "161.0",
         null,
         "8.68",
         "8.74",
         null,
         null,
         null,
         null,
         null,
         null,
         null,
         "1.0",
         null,
         null,
         null,
         null,
         null,
         null,
         null,
         null,
         null,
         null,
         null,
         null,
         "224705.0",
         null,
         "C-41 15372",
         "P-41  9991",
         "0.95",
         "G8III",
         "2"
        ]
       ],
       "shape": {
        "columns": 78,
        "rows": 5
       }
      },
      "text/html": [
       "<div>\n",
       "<style scoped>\n",
       "    .dataframe tbody tr th:only-of-type {\n",
       "        vertical-align: middle;\n",
       "    }\n",
       "\n",
       "    .dataframe tbody tr th {\n",
       "        vertical-align: top;\n",
       "    }\n",
       "\n",
       "    .dataframe thead th {\n",
       "        text-align: right;\n",
       "    }\n",
       "</style>\n",
       "<table border=\"1\" class=\"dataframe\">\n",
       "  <thead>\n",
       "    <tr style=\"text-align: right;\">\n",
       "      <th></th>\n",
       "      <th>Catalog</th>\n",
       "      <th>HIP</th>\n",
       "      <th>Proxy</th>\n",
       "      <th>RAhms</th>\n",
       "      <th>DEdms</th>\n",
       "      <th>Vmag</th>\n",
       "      <th>VarFlag</th>\n",
       "      <th>r_Vmag</th>\n",
       "      <th>RAdeg</th>\n",
       "      <th>DEdeg</th>\n",
       "      <th>...</th>\n",
       "      <th>Survey</th>\n",
       "      <th>Chart</th>\n",
       "      <th>Notes</th>\n",
       "      <th>HD</th>\n",
       "      <th>BD</th>\n",
       "      <th>CoD</th>\n",
       "      <th>CPD</th>\n",
       "      <th>(V-I)red</th>\n",
       "      <th>SpType</th>\n",
       "      <th>r_SpType</th>\n",
       "    </tr>\n",
       "  </thead>\n",
       "  <tbody>\n",
       "    <tr>\n",
       "      <th>0</th>\n",
       "      <td>H</td>\n",
       "      <td>1</td>\n",
       "      <td>NaN</td>\n",
       "      <td>00 00 00.22</td>\n",
       "      <td>+01 05 20.4</td>\n",
       "      <td>9.10</td>\n",
       "      <td>NaN</td>\n",
       "      <td>H</td>\n",
       "      <td>0.000912</td>\n",
       "      <td>1.089013</td>\n",
       "      <td>...</td>\n",
       "      <td>S</td>\n",
       "      <td>NaN</td>\n",
       "      <td>NaN</td>\n",
       "      <td>224700.0</td>\n",
       "      <td>B+00 5077</td>\n",
       "      <td>NaN</td>\n",
       "      <td>NaN</td>\n",
       "      <td>0.66</td>\n",
       "      <td>F5</td>\n",
       "      <td>S</td>\n",
       "    </tr>\n",
       "    <tr>\n",
       "      <th>1</th>\n",
       "      <td>H</td>\n",
       "      <td>2</td>\n",
       "      <td>NaN</td>\n",
       "      <td>00 00 00.91</td>\n",
       "      <td>-19 29 55.8</td>\n",
       "      <td>9.27</td>\n",
       "      <td>NaN</td>\n",
       "      <td>G</td>\n",
       "      <td>0.003797</td>\n",
       "      <td>-19.498837</td>\n",
       "      <td>...</td>\n",
       "      <td>NaN</td>\n",
       "      <td>NaN</td>\n",
       "      <td>NaN</td>\n",
       "      <td>224690.0</td>\n",
       "      <td>B-20 6688</td>\n",
       "      <td>NaN</td>\n",
       "      <td>NaN</td>\n",
       "      <td>1.04</td>\n",
       "      <td>K3V</td>\n",
       "      <td>4</td>\n",
       "    </tr>\n",
       "    <tr>\n",
       "      <th>2</th>\n",
       "      <td>H</td>\n",
       "      <td>3</td>\n",
       "      <td>NaN</td>\n",
       "      <td>00 00 01.20</td>\n",
       "      <td>+38 51 33.4</td>\n",
       "      <td>6.61</td>\n",
       "      <td>NaN</td>\n",
       "      <td>G</td>\n",
       "      <td>0.005008</td>\n",
       "      <td>38.859286</td>\n",
       "      <td>...</td>\n",
       "      <td>S</td>\n",
       "      <td>NaN</td>\n",
       "      <td>NaN</td>\n",
       "      <td>224699.0</td>\n",
       "      <td>B+38 5108</td>\n",
       "      <td>NaN</td>\n",
       "      <td>NaN</td>\n",
       "      <td>0.00</td>\n",
       "      <td>B9</td>\n",
       "      <td>S</td>\n",
       "    </tr>\n",
       "    <tr>\n",
       "      <th>3</th>\n",
       "      <td>H</td>\n",
       "      <td>4</td>\n",
       "      <td>NaN</td>\n",
       "      <td>00 00 02.01</td>\n",
       "      <td>-51 53 36.8</td>\n",
       "      <td>8.06</td>\n",
       "      <td>NaN</td>\n",
       "      <td>H</td>\n",
       "      <td>0.008382</td>\n",
       "      <td>-51.893546</td>\n",
       "      <td>...</td>\n",
       "      <td>S</td>\n",
       "      <td>NaN</td>\n",
       "      <td>NaN</td>\n",
       "      <td>224707.0</td>\n",
       "      <td>NaN</td>\n",
       "      <td>NaN</td>\n",
       "      <td>P-52 12237</td>\n",
       "      <td>0.43</td>\n",
       "      <td>F0V</td>\n",
       "      <td>2</td>\n",
       "    </tr>\n",
       "    <tr>\n",
       "      <th>4</th>\n",
       "      <td>H</td>\n",
       "      <td>5</td>\n",
       "      <td>NaN</td>\n",
       "      <td>00 00 02.39</td>\n",
       "      <td>-40 35 28.4</td>\n",
       "      <td>8.55</td>\n",
       "      <td>NaN</td>\n",
       "      <td>H</td>\n",
       "      <td>0.009965</td>\n",
       "      <td>-40.591224</td>\n",
       "      <td>...</td>\n",
       "      <td>NaN</td>\n",
       "      <td>NaN</td>\n",
       "      <td>NaN</td>\n",
       "      <td>224705.0</td>\n",
       "      <td>NaN</td>\n",
       "      <td>C-41 15372</td>\n",
       "      <td>P-41  9991</td>\n",
       "      <td>0.95</td>\n",
       "      <td>G8III</td>\n",
       "      <td>2</td>\n",
       "    </tr>\n",
       "  </tbody>\n",
       "</table>\n",
       "<p>5 rows × 78 columns</p>\n",
       "</div>"
      ],
      "text/plain": [
       "  Catalog  HIP Proxy        RAhms        DEdms  Vmag  VarFlag r_Vmag  \\\n",
       "0       H    1   NaN  00 00 00.22  +01 05 20.4  9.10      NaN      H   \n",
       "1       H    2   NaN  00 00 00.91  -19 29 55.8  9.27      NaN      G   \n",
       "2       H    3   NaN  00 00 01.20  +38 51 33.4  6.61      NaN      G   \n",
       "3       H    4   NaN  00 00 02.01  -51 53 36.8  8.06      NaN      H   \n",
       "4       H    5   NaN  00 00 02.39  -40 35 28.4  8.55      NaN      H   \n",
       "\n",
       "      RAdeg      DEdeg  ... Survey  Chart  Notes        HD         BD  \\\n",
       "0  0.000912   1.089013  ...      S    NaN    NaN  224700.0  B+00 5077   \n",
       "1  0.003797 -19.498837  ...    NaN    NaN    NaN  224690.0  B-20 6688   \n",
       "2  0.005008  38.859286  ...      S    NaN    NaN  224699.0  B+38 5108   \n",
       "3  0.008382 -51.893546  ...      S    NaN    NaN  224707.0        NaN   \n",
       "4  0.009965 -40.591224  ...    NaN    NaN    NaN  224705.0        NaN   \n",
       "\n",
       "          CoD         CPD  (V-I)red  SpType  r_SpType  \n",
       "0         NaN         NaN      0.66      F5         S  \n",
       "1         NaN         NaN      1.04     K3V         4  \n",
       "2         NaN         NaN      0.00      B9         S  \n",
       "3         NaN  P-52 12237      0.43     F0V         2  \n",
       "4  C-41 15372  P-41  9991      0.95   G8III         2  \n",
       "\n",
       "[5 rows x 78 columns]"
      ]
     },
     "execution_count": 78,
     "metadata": {},
     "output_type": "execute_result"
    }
   ],
   "source": [
    "import pandas as pd\n",
    "\n",
    "data = pd.read_csv('hipparcos-voidmain.csv')\n",
    "\n",
    "data.head()"
   ]
  },
  {
   "cell_type": "code",
   "execution_count": 79,
   "id": "e4cbe11d",
   "metadata": {},
   "outputs": [
    {
     "data": {
      "text/plain": [
       "['o_Hpmag']"
      ]
     },
     "execution_count": 79,
     "metadata": {},
     "output_type": "execute_result"
    }
   ],
   "source": [
    "[e for e in data.columns if e.startswith('o_')]"
   ]
  },
  {
   "cell_type": "markdown",
   "id": "3ba72862",
   "metadata": {},
   "source": [
    "## Nettoyage et Exploration des données\n",
    "\n",
    "### Identifier et gérer les valeurs manquantes. Explorer plusieurs statégies"
   ]
  },
  {
   "cell_type": "code",
   "execution_count": 80,
   "id": "c46a2f4b",
   "metadata": {},
   "outputs": [
    {
     "name": "stdout",
     "output_type": "stream",
     "text": [
      "(118218, 78)\n",
      "(118218, 42)\n"
     ]
    }
   ],
   "source": [
    "print(data.shape)\n",
    "# Supprimer les colonnes non pertinentes\n",
    "columns_to_drop = ['o_Hpmag', 'm_BTmag', 'm_Hpmag', 'm_HIP', 'e_RAdeg', 'e_DEdeg', 'e_Plx', 'e_pmRA', 'e_pmDE', 'e_BTmag', 'e_VTmag', 'e_B-V', 'e_V-I', 'e_Hpmag', 'Catalog', 'HIP', 'HD', 'BD', 'CoD', 'CPD', 'CCDM', 'Proxy', 'RAhms', 'DEdms', 'Notes', 'Survey', 'Chart', 'F1', 'F2', '---', 'AstroRef', 'Source', 'r_Vmag', 'r_B-V', 'r_V-I', 'r_SpType']  # Ajoute d'autres colonnes à supprimer ici\n",
    "data = data.drop(columns=columns_to_drop, errors='ignore') # errors='ignore' pour ne pas planter si une colonne n'existe pas\n",
    "data.head()\n",
    "print(data.shape)"
   ]
  },
  {
   "cell_type": "code",
   "execution_count": 81,
   "id": "5d718481",
   "metadata": {},
   "outputs": [
    {
     "name": "stdout",
     "output_type": "stream",
     "text": [
      "(118218, 42)\n",
      "(118218, 27)\n"
     ]
    }
   ],
   "source": [
    "print(data.shape)\n",
    "pourcent = (data.isna().sum() / len(data))*100  # Pourcentage de valeurs manquantes par colonne\n",
    "\n",
    "# Séléctionner les colonnes contenant plus de 50% de valeurs manquantes\n",
    "# Ces colonnes seront supprimées du dataframe\n",
    "colonnesAEnlever = pourcent[pourcent.values > 30].keys()\n",
    "\n",
    "data = data.drop(columns=colonnesAEnlever)\n",
    "print(data.shape)"
   ]
  },
  {
   "cell_type": "code",
   "execution_count": 82,
   "id": "ae411b2f",
   "metadata": {},
   "outputs": [
    {
     "data": {
      "application/vnd.microsoft.datawrangler.viewer.v0+json": {
       "columns": [
        {
         "name": "SpType",
         "rawType": "object",
         "type": "string"
        },
        {
         "name": "count",
         "rawType": "int64",
         "type": "integer"
        }
       ],
       "ref": "658f43a1-23e0-441f-81b6-064f904b830b",
       "rows": [
        [
         "K0",
         "8570"
        ],
        [
         "G5",
         "6017"
        ],
        [
         "A0",
         "4944"
        ],
        [
         "F8",
         "4369"
        ],
        [
         "G0",
         "4238"
        ],
        [
         "F5",
         "3861"
        ],
        [
         "K2",
         "3696"
        ],
        [
         "K0III",
         "3478"
        ],
        [
         "K5",
         "2826"
        ],
        [
         "A2",
         "2630"
        ],
        [
         "F0",
         "2458"
        ],
        [
         "K1III",
         "2090"
        ],
        [
         "F2",
         "2001"
        ],
        [
         "K2III",
         "1746"
        ],
        [
         "G8III",
         "1699"
        ],
        [
         "F5V",
         "1667"
        ],
        [
         "B9",
         "1581"
        ],
        [
         "K3III",
         "1298"
        ],
        [
         "F3V",
         "1275"
        ],
        [
         "A0V",
         "1113"
        ],
        [
         "A5",
         "1106"
        ],
        [
         "A3",
         "1087"
        ],
        [
         "F6V",
         "1049"
        ],
        [
         "B8",
         "993"
        ],
        [
         "F7V",
         "981"
        ],
        [
         "M0",
         "938"
        ],
        [
         "F0V",
         "917"
        ],
        [
         "G3V",
         "891"
        ],
        [
         "F2V",
         "862"
        ],
        [
         "G0V",
         "842"
        ],
        [
         "B9V",
         "839"
        ],
        [
         "G5V",
         "822"
        ],
        [
         "K4III",
         "711"
        ],
        [
         "F8V",
         "687"
        ],
        [
         "A1V",
         "666"
        ],
        [
         "K5III",
         "611"
        ],
        [
         "G2V",
         "569"
        ],
        [
         "G8V",
         "507"
        ],
        [
         "B8V",
         "489"
        ],
        [
         "G8/K0III",
         "468"
        ],
        [
         "G1V",
         "456"
        ],
        [
         "A2V",
         "428"
        ],
        [
         "M...",
         "427"
        ],
        [
         "K2/K3III",
         "414"
        ],
        [
         "A3V",
         "400"
        ],
        [
         "G8IV",
         "394"
        ],
        [
         "K7",
         "393"
        ],
        [
         "K0V",
         "354"
        ],
        [
         "M2III",
         "348"
        ],
        [
         "F3/F5V",
         "342"
        ]
       ],
       "shape": {
        "columns": 1,
        "rows": 4124
       }
      },
      "text/plain": [
       "SpType\n",
       "K0           8570\n",
       "G5           6017\n",
       "A0           4944\n",
       "F8           4369\n",
       "G0           4238\n",
       "             ... \n",
       "M3Ia0           1\n",
       "F3IIIp...       1\n",
       "G1IB            1\n",
       "G0w             1\n",
       "A3Ia comp       1\n",
       "Name: count, Length: 4124, dtype: int64"
      ]
     },
     "execution_count": 82,
     "metadata": {},
     "output_type": "execute_result"
    }
   ],
   "source": [
    "data['SpType'].value_counts()"
   ]
  },
  {
   "cell_type": "code",
   "execution_count": 83,
   "id": "75c50190",
   "metadata": {},
   "outputs": [
    {
     "data": {
      "application/vnd.microsoft.datawrangler.viewer.v0+json": {
       "columns": [
        {
         "name": "SpType",
         "rawType": "object",
         "type": "string"
        },
        {
         "name": "count",
         "rawType": "int64",
         "type": "integer"
        }
       ],
       "ref": "2e39337c-c3e7-47f7-8f7c-a2457891adc0",
       "rows": [
        [
         "K",
         "32036"
        ],
        [
         "F",
         "25607"
        ],
        [
         "G",
         "22771"
        ],
        [
         "A",
         "18704"
        ],
        [
         "B",
         "10421"
        ],
        [
         "M",
         "4862"
        ],
        [
         "O",
         "265"
        ],
        [
         "C",
         "165"
        ],
        [
         "R",
         "89"
        ],
        [
         "W",
         "75"
        ],
        [
         "s",
         "69"
        ],
        [
         "N",
         "63"
        ],
        [
         "D",
         "27"
        ],
        [
         "S",
         "25"
        ],
        [
         "p",
         "3"
        ],
        [
         "k",
         "1"
        ],
        [
         "(",
         "1"
        ]
       ],
       "shape": {
        "columns": 1,
        "rows": 17
       }
      },
      "text/plain": [
       "SpType\n",
       "K    32036\n",
       "F    25607\n",
       "G    22771\n",
       "A    18704\n",
       "B    10421\n",
       "M     4862\n",
       "O      265\n",
       "C      165\n",
       "R       89\n",
       "W       75\n",
       "s       69\n",
       "N       63\n",
       "D       27\n",
       "S       25\n",
       "p        3\n",
       "k        1\n",
       "(        1\n",
       "Name: count, dtype: int64"
      ]
     },
     "execution_count": 83,
     "metadata": {},
     "output_type": "execute_result"
    }
   ],
   "source": [
    "# au vu du grand nombre de sptype différents, on ne garde que la première lettre.\n",
    "data['SpType'] = data['SpType'].apply(lambda x: x[0] if pd.notnull(x) and len(x) > 0 else x)\n",
    "data['SpType'].value_counts()"
   ]
  },
  {
   "cell_type": "code",
   "execution_count": 84,
   "id": "890941f6",
   "metadata": {},
   "outputs": [
    {
     "data": {
      "application/vnd.microsoft.datawrangler.viewer.v0+json": {
       "columns": [
        {
         "name": "index",
         "rawType": "object",
         "type": "string"
        },
        {
         "name": "0",
         "rawType": "int64",
         "type": "integer"
        }
       ],
       "ref": "d47b4df9-03e9-4f28-80bc-cf0ee9cc424a",
       "rows": [
        [
         "Vmag",
         "0"
        ],
        [
         "RAdeg",
         "0"
        ],
        [
         "DEdeg",
         "0"
        ],
        [
         "Plx",
         "0"
        ],
        [
         "pmRA",
         "0"
        ],
        [
         "pmDE",
         "0"
        ],
        [
         "DE:RA",
         "0"
        ],
        [
         "Plx:RA",
         "0"
        ],
        [
         "Plx:DE",
         "0"
        ],
        [
         "pmRA:RA",
         "0"
        ],
        [
         "pmRA:DE",
         "0"
        ],
        [
         "pmRA:Plx",
         "0"
        ],
        [
         "pmDE:RA",
         "0"
        ],
        [
         "pmDE:DE",
         "0"
        ],
        [
         "pmDE:Plx",
         "0"
        ],
        [
         "pmDE:pmRA",
         "0"
        ],
        [
         "BTmag",
         "0"
        ],
        [
         "VTmag",
         "0"
        ],
        [
         "B-V",
         "0"
        ],
        [
         "V-I",
         "0"
        ],
        [
         "Hpmag",
         "0"
        ],
        [
         "Hpscat",
         "0"
        ],
        [
         "Hpmax",
         "0"
        ],
        [
         "HPmin",
         "0"
        ],
        [
         "Ncomp",
         "0"
        ],
        [
         "(V-I)red",
         "0"
        ],
        [
         "SpType",
         "0"
        ]
       ],
       "shape": {
        "columns": 1,
        "rows": 27
       }
      },
      "text/plain": [
       "Vmag         0\n",
       "RAdeg        0\n",
       "DEdeg        0\n",
       "Plx          0\n",
       "pmRA         0\n",
       "pmDE         0\n",
       "DE:RA        0\n",
       "Plx:RA       0\n",
       "Plx:DE       0\n",
       "pmRA:RA      0\n",
       "pmRA:DE      0\n",
       "pmRA:Plx     0\n",
       "pmDE:RA      0\n",
       "pmDE:DE      0\n",
       "pmDE:Plx     0\n",
       "pmDE:pmRA    0\n",
       "BTmag        0\n",
       "VTmag        0\n",
       "B-V          0\n",
       "V-I          0\n",
       "Hpmag        0\n",
       "Hpscat       0\n",
       "Hpmax        0\n",
       "HPmin        0\n",
       "Ncomp        0\n",
       "(V-I)red     0\n",
       "SpType       0\n",
       "dtype: int64"
      ]
     },
     "execution_count": 84,
     "metadata": {},
     "output_type": "execute_result"
    }
   ],
   "source": [
    "# Remplir les valeurs manquantes dans les colonnes numériques avec la moyenne de chaque colonne\n",
    "numeric_cols = data.select_dtypes(include=['number']).columns.tolist()\n",
    "data[numeric_cols] = data[numeric_cols].fillna(data[numeric_cols].mean())\n",
    "\n",
    "data.dropna(subset=['SpType'], inplace=True)\n",
    "data.isna().sum()"
   ]
  },
  {
   "cell_type": "markdown",
   "id": "b9434d23",
   "metadata": {},
   "source": [
    "## Colonnes restantes après nettoyage\n",
    "\n",
    "Légende : <span style=\"display:inline-block;padding:2px 8px;margin-right:8px;border-radius:4px;background:#1f77b4;color:white\">Numérique</span><span style=\"display:inline-block;padding:2px 8px;border-radius:4px;background:#9467bd;color:white\">Type spectral</span>\n",
    "\n",
    "<span style=\"background:#1f77b4;color:white;padding:2px 6px;border-radius:4px\">Vmag</span>,\n",
    "<span style=\"background:#1f77b4;color:white;padding:2px 6px;border-radius:4px\">RAdeg</span>,\n",
    "<span style=\"background:#1f77b4;color:white;padding:2px 6px;border-radius:4px\">DEdeg</span>,\n",
    "<span style=\"background:#1f77b4;color:white;padding:2px 6px;border-radius:4px\">Plx</span>,\n",
    "<span style=\"background:#1f77b4;color:white;padding:2px 6px;border-radius:4px\">pmRA</span>,\n",
    "<span style=\"background:#1f77b4;color:white;padding:2px 6px;border-radius:4px\">pmDE</span>,\n",
    "<span style=\"background:#1f77b4;color:white;padding:2px 6px;border-radius:4px\">DE:RA</span>,\n",
    "<span style=\"background:#1f77b4;color:white;padding:2px 6px;border-radius:4px\">Plx:RA</span>,\n",
    "<span style=\"background:#1f77b4;color:white;padding:2px 6px;border-radius:4px\">Plx:DE</span>,\n",
    "<span style=\"background:#1f77b4;color:white;padding:2px 6px;border-radius:4px\">pmRA:RA</span>,\n",
    "<span style=\"background:#1f77b4;color:white;padding:2px 6px;border-radius:4px\">pmRA:DE</span>,\n",
    "<span style=\"background:#1f77b4;color:white;padding:2px 6px;border-radius:4px\">pmRA:Plx</span>,\n",
    "<span style=\"background:#1f77b4;color:white;padding:2px 6px;border-radius:4px\">pmDE:RA</span>,\n",
    "<span style=\"background:#1f77b4;color:white;padding:2px 6px;border-radius:4px\">pmDE:DE</span>,\n",
    "<span style=\"background:#1f77b4;color:white;padding:2px 6px;border-radius:4px\">pmDE:Plx</span>,\n",
    "<span style=\"background:#1f77b4;color:white;padding:2px 6px;border-radius:4px\">pmDE:pmRA</span>,\n",
    "<span style=\"background:#1f77b4;color:white;padding:2px 6px;border-radius:4px\">BTmag</span>,\n",
    "<span style=\"background:#1f77b4;color:white;padding:2px 6px;border-radius:4px\">VTmag</span>,\n",
    "<span style=\"background:#1f77b4;color:white;padding:2px 6px;border-radius:4px\">B-V</span>,\n",
    "<span style=\"background:#1f77b4;color:white;padding:2px 6px;border-radius:4px\">V-I</span>,\n",
    "<span style=\"background:#1f77b4;color:white;padding:2px 6px;border-radius:4px\">Hpmag</span>,\n",
    "<span style=\"background:#1f77b4;color:white;padding:2px 6px;border-radius:4px\">Hpscat</span>,\n",
    "<span style=\"background:#1f77b4;color:white;padding:2px 6px;border-radius:4px\">Hpmax</span>,\n",
    "<span style=\"background:#1f77b4;color:white;padding:2px 6px;border-radius:4px\">HPmin</span>,\n",
    "<span style=\"background:#1f77b4;color:white;padding:2px 6px;border-radius:4px\">Ncomp</span>,\n",
    "<span style=\"background:#1f77b4;color:white;padding:2px 6px;border-radius:4px\">(V-I)red</span>,\n",
    "<span style=\"background:#9467bd;color:white;padding:2px 6px;border-radius:4px\">SpType</span>,\n"
   ]
  },
  {
   "cell_type": "markdown",
   "id": "b55fc54f",
   "metadata": {},
   "source": [
    "### Rechercher et traiter les valeurs aberrantes (outliers) dans certaines colonnes (par exemple, en utilisant des boxplots ou des méthodes statistiques)."
   ]
  },
  {
   "cell_type": "code",
   "execution_count": 85,
   "id": "38e901a9",
   "metadata": {},
   "outputs": [
    {
     "data": {
      "application/vnd.microsoft.datawrangler.viewer.v0+json": {
       "columns": [
        {
         "name": "index",
         "rawType": "object",
         "type": "string"
        },
        {
         "name": "Vmag",
         "rawType": "float64",
         "type": "float"
        },
        {
         "name": "RAdeg",
         "rawType": "float64",
         "type": "float"
        },
        {
         "name": "DEdeg",
         "rawType": "float64",
         "type": "float"
        },
        {
         "name": "Plx",
         "rawType": "float64",
         "type": "float"
        },
        {
         "name": "pmRA",
         "rawType": "float64",
         "type": "float"
        },
        {
         "name": "pmDE",
         "rawType": "float64",
         "type": "float"
        },
        {
         "name": "DE:RA",
         "rawType": "float64",
         "type": "float"
        },
        {
         "name": "Plx:RA",
         "rawType": "float64",
         "type": "float"
        },
        {
         "name": "Plx:DE",
         "rawType": "float64",
         "type": "float"
        },
        {
         "name": "pmRA:RA",
         "rawType": "float64",
         "type": "float"
        },
        {
         "name": "pmRA:DE",
         "rawType": "float64",
         "type": "float"
        },
        {
         "name": "pmRA:Plx",
         "rawType": "float64",
         "type": "float"
        },
        {
         "name": "pmDE:RA",
         "rawType": "float64",
         "type": "float"
        },
        {
         "name": "pmDE:DE",
         "rawType": "float64",
         "type": "float"
        },
        {
         "name": "pmDE:Plx",
         "rawType": "float64",
         "type": "float"
        },
        {
         "name": "pmDE:pmRA",
         "rawType": "float64",
         "type": "float"
        },
        {
         "name": "BTmag",
         "rawType": "float64",
         "type": "float"
        },
        {
         "name": "VTmag",
         "rawType": "float64",
         "type": "float"
        },
        {
         "name": "B-V",
         "rawType": "float64",
         "type": "float"
        },
        {
         "name": "V-I",
         "rawType": "float64",
         "type": "float"
        },
        {
         "name": "Hpmag",
         "rawType": "float64",
         "type": "float"
        },
        {
         "name": "Hpscat",
         "rawType": "float64",
         "type": "float"
        },
        {
         "name": "Hpmax",
         "rawType": "float64",
         "type": "float"
        },
        {
         "name": "HPmin",
         "rawType": "float64",
         "type": "float"
        },
        {
         "name": "Ncomp",
         "rawType": "float64",
         "type": "float"
        },
        {
         "name": "(V-I)red",
         "rawType": "float64",
         "type": "float"
        }
       ],
       "ref": "c9576931-2d5c-4173-9f33-2275a83f327b",
       "rows": [
        [
         "count",
         "115184.0",
         "115184.0",
         "115184.0",
         "115184.0",
         "115184.0",
         "115184.0",
         "115184.0",
         "115184.0",
         "115184.0",
         "115184.0",
         "115184.0",
         "115184.0",
         "115184.0",
         "115184.0",
         "115184.0",
         "115184.0",
         "115184.0",
         "115184.0",
         "115184.0",
         "115184.0",
         "115184.0",
         "115184.0",
         "115184.0",
         "115184.0",
         "115184.0",
         "115184.0"
        ],
        [
         "mean",
         "8.31128437977497",
         "181.65259586531",
         "-2.0963758212028782",
         "7.093222174012377",
         "-1.3892866406526825",
         "-16.00639411379097",
         "0.0028947033587840517",
         "0.0033435512511101437",
         "-0.08730109840227093",
         "0.009035225049743242",
         "-0.0009655234387198204",
         "0.0032488254034324093",
         "-0.00112686631335513",
         "-0.023339724740963855",
         "0.03050920884815971",
         "0.0055219132072758",
         "9.1387525720115",
         "8.341448007469513",
         "0.7026546940849944",
         "0.7583451244938402",
         "8.414627212665645",
         "0.023396861332258826",
         "8.373840424323497",
         "8.453167389693713",
         "1.0973681189112445",
         "0.7542394777052369"
        ],
        [
         "std",
         "1.26285165651185",
         "103.2045604352701",
         "40.99034295952312",
         "11.05360115714173",
         "96.19020156426203",
         "91.19451291054459",
         "0.21119558177103012",
         "0.20225768692943055",
         "0.1559671553605389",
         "0.20950973711997356",
         "0.15791873657183508",
         "0.1597013850843844",
         "0.14891850675179158",
         "0.26425832603599403",
         "0.16213160487967265",
         "0.25718574619351126",
         "1.3589932869369443",
         "1.1923943874870824",
         "0.4891555471146753",
         "0.5622482380336716",
         "1.2712573989520775",
         "0.06294879296431183",
         "1.2517867498560242",
         "1.2868427877224007",
         "0.30057395331070935",
         "0.5834113999019305"
        ],
        [
         "min",
         "-1.44",
         "0.00091185",
         "-89.78245385",
         "-35.1",
         "-4410.79",
         "-5813.0",
         "-0.98",
         "-0.97",
         "-0.78",
         "-0.99",
         "-0.95",
         "-0.94",
         "-0.94",
         "-0.97",
         "-0.81",
         "-0.94",
         "-0.417",
         "-0.608",
         "-0.4",
         "-0.42",
         "-1.0876",
         "0.0",
         "-1.17",
         "-0.98",
         "1.0",
         "-0.52"
        ],
        [
         "25%",
         "7.62",
         "93.72818638",
         "-36.6330908125",
         "2.51",
         "-14.94",
         "-21.3",
         "-0.14",
         "-0.13",
         "-0.19",
         "-0.12",
         "-0.09",
         "-0.1",
         "-0.09",
         "-0.2",
         "-0.08",
         "-0.17",
         "8.36575",
         "7.701",
         "0.343",
         "0.4",
         "7.7188",
         "0.012",
         "7.69",
         "7.75",
         "1.0",
         "0.4"
        ],
        [
         "50%",
         "8.41",
         "182.029845645",
         "-1.8105565000000001",
         "4.58",
         "-1.68",
         "-5.62",
         "0.0",
         "0.0",
         "-0.09",
         "0.01",
         "0.0",
         "0.0",
         "0.0",
         "-0.03",
         "0.03",
         "0.0",
         "9.238",
         "8.444",
         "0.609",
         "0.68",
         "8.518",
         "0.016",
         "8.48",
         "8.54",
         "1.0",
         "0.68"
        ],
        [
         "75%",
         "9.09",
         "271.91829076249996",
         "31.42491974",
         "8.25",
         "11.56",
         "3.72",
         "0.14",
         "0.14",
         "0.02",
         "0.15",
         "0.09",
         "0.1",
         "0.09",
         "0.14",
         "0.13",
         "0.18",
         "10.075",
         "9.116",
         "1.074",
         "1.04",
         "9.1989",
         "0.021",
         "9.15",
         "9.23",
         "1.0",
         "1.04"
        ],
        [
         "max",
         "13.78",
         "359.97879195",
         "89.56940851",
         "772.33",
         "6767.26",
         "10326.93",
         "0.96",
         "0.99",
         "0.84",
         "0.9",
         "0.86",
         "0.95",
         "0.97",
         "0.98",
         "0.94",
         "0.96",
         "14.297",
         "12.058",
         "5.46",
         "9.03",
         "13.9026",
         "1.976",
         "13.9",
         "15.09",
         "4.0",
         "9.29"
        ]
       ],
       "shape": {
        "columns": 26,
        "rows": 8
       }
      },
      "text/html": [
       "<div>\n",
       "<style scoped>\n",
       "    .dataframe tbody tr th:only-of-type {\n",
       "        vertical-align: middle;\n",
       "    }\n",
       "\n",
       "    .dataframe tbody tr th {\n",
       "        vertical-align: top;\n",
       "    }\n",
       "\n",
       "    .dataframe thead th {\n",
       "        text-align: right;\n",
       "    }\n",
       "</style>\n",
       "<table border=\"1\" class=\"dataframe\">\n",
       "  <thead>\n",
       "    <tr style=\"text-align: right;\">\n",
       "      <th></th>\n",
       "      <th>Vmag</th>\n",
       "      <th>RAdeg</th>\n",
       "      <th>DEdeg</th>\n",
       "      <th>Plx</th>\n",
       "      <th>pmRA</th>\n",
       "      <th>pmDE</th>\n",
       "      <th>DE:RA</th>\n",
       "      <th>Plx:RA</th>\n",
       "      <th>Plx:DE</th>\n",
       "      <th>pmRA:RA</th>\n",
       "      <th>...</th>\n",
       "      <th>BTmag</th>\n",
       "      <th>VTmag</th>\n",
       "      <th>B-V</th>\n",
       "      <th>V-I</th>\n",
       "      <th>Hpmag</th>\n",
       "      <th>Hpscat</th>\n",
       "      <th>Hpmax</th>\n",
       "      <th>HPmin</th>\n",
       "      <th>Ncomp</th>\n",
       "      <th>(V-I)red</th>\n",
       "    </tr>\n",
       "  </thead>\n",
       "  <tbody>\n",
       "    <tr>\n",
       "      <th>count</th>\n",
       "      <td>115184.000000</td>\n",
       "      <td>115184.000000</td>\n",
       "      <td>115184.000000</td>\n",
       "      <td>115184.000000</td>\n",
       "      <td>115184.000000</td>\n",
       "      <td>115184.000000</td>\n",
       "      <td>115184.000000</td>\n",
       "      <td>115184.000000</td>\n",
       "      <td>115184.000000</td>\n",
       "      <td>115184.000000</td>\n",
       "      <td>...</td>\n",
       "      <td>115184.000000</td>\n",
       "      <td>115184.000000</td>\n",
       "      <td>115184.000000</td>\n",
       "      <td>115184.000000</td>\n",
       "      <td>115184.000000</td>\n",
       "      <td>115184.000000</td>\n",
       "      <td>115184.000000</td>\n",
       "      <td>115184.000000</td>\n",
       "      <td>115184.000000</td>\n",
       "      <td>115184.000000</td>\n",
       "    </tr>\n",
       "    <tr>\n",
       "      <th>mean</th>\n",
       "      <td>8.311284</td>\n",
       "      <td>181.652596</td>\n",
       "      <td>-2.096376</td>\n",
       "      <td>7.093222</td>\n",
       "      <td>-1.389287</td>\n",
       "      <td>-16.006394</td>\n",
       "      <td>0.002895</td>\n",
       "      <td>0.003344</td>\n",
       "      <td>-0.087301</td>\n",
       "      <td>0.009035</td>\n",
       "      <td>...</td>\n",
       "      <td>9.138753</td>\n",
       "      <td>8.341448</td>\n",
       "      <td>0.702655</td>\n",
       "      <td>0.758345</td>\n",
       "      <td>8.414627</td>\n",
       "      <td>0.023397</td>\n",
       "      <td>8.373840</td>\n",
       "      <td>8.453167</td>\n",
       "      <td>1.097368</td>\n",
       "      <td>0.754239</td>\n",
       "    </tr>\n",
       "    <tr>\n",
       "      <th>std</th>\n",
       "      <td>1.262852</td>\n",
       "      <td>103.204560</td>\n",
       "      <td>40.990343</td>\n",
       "      <td>11.053601</td>\n",
       "      <td>96.190202</td>\n",
       "      <td>91.194513</td>\n",
       "      <td>0.211196</td>\n",
       "      <td>0.202258</td>\n",
       "      <td>0.155967</td>\n",
       "      <td>0.209510</td>\n",
       "      <td>...</td>\n",
       "      <td>1.358993</td>\n",
       "      <td>1.192394</td>\n",
       "      <td>0.489156</td>\n",
       "      <td>0.562248</td>\n",
       "      <td>1.271257</td>\n",
       "      <td>0.062949</td>\n",
       "      <td>1.251787</td>\n",
       "      <td>1.286843</td>\n",
       "      <td>0.300574</td>\n",
       "      <td>0.583411</td>\n",
       "    </tr>\n",
       "    <tr>\n",
       "      <th>min</th>\n",
       "      <td>-1.440000</td>\n",
       "      <td>0.000912</td>\n",
       "      <td>-89.782454</td>\n",
       "      <td>-35.100000</td>\n",
       "      <td>-4410.790000</td>\n",
       "      <td>-5813.000000</td>\n",
       "      <td>-0.980000</td>\n",
       "      <td>-0.970000</td>\n",
       "      <td>-0.780000</td>\n",
       "      <td>-0.990000</td>\n",
       "      <td>...</td>\n",
       "      <td>-0.417000</td>\n",
       "      <td>-0.608000</td>\n",
       "      <td>-0.400000</td>\n",
       "      <td>-0.420000</td>\n",
       "      <td>-1.087600</td>\n",
       "      <td>0.000000</td>\n",
       "      <td>-1.170000</td>\n",
       "      <td>-0.980000</td>\n",
       "      <td>1.000000</td>\n",
       "      <td>-0.520000</td>\n",
       "    </tr>\n",
       "    <tr>\n",
       "      <th>25%</th>\n",
       "      <td>7.620000</td>\n",
       "      <td>93.728186</td>\n",
       "      <td>-36.633091</td>\n",
       "      <td>2.510000</td>\n",
       "      <td>-14.940000</td>\n",
       "      <td>-21.300000</td>\n",
       "      <td>-0.140000</td>\n",
       "      <td>-0.130000</td>\n",
       "      <td>-0.190000</td>\n",
       "      <td>-0.120000</td>\n",
       "      <td>...</td>\n",
       "      <td>8.365750</td>\n",
       "      <td>7.701000</td>\n",
       "      <td>0.343000</td>\n",
       "      <td>0.400000</td>\n",
       "      <td>7.718800</td>\n",
       "      <td>0.012000</td>\n",
       "      <td>7.690000</td>\n",
       "      <td>7.750000</td>\n",
       "      <td>1.000000</td>\n",
       "      <td>0.400000</td>\n",
       "    </tr>\n",
       "    <tr>\n",
       "      <th>50%</th>\n",
       "      <td>8.410000</td>\n",
       "      <td>182.029846</td>\n",
       "      <td>-1.810557</td>\n",
       "      <td>4.580000</td>\n",
       "      <td>-1.680000</td>\n",
       "      <td>-5.620000</td>\n",
       "      <td>0.000000</td>\n",
       "      <td>0.000000</td>\n",
       "      <td>-0.090000</td>\n",
       "      <td>0.010000</td>\n",
       "      <td>...</td>\n",
       "      <td>9.238000</td>\n",
       "      <td>8.444000</td>\n",
       "      <td>0.609000</td>\n",
       "      <td>0.680000</td>\n",
       "      <td>8.518000</td>\n",
       "      <td>0.016000</td>\n",
       "      <td>8.480000</td>\n",
       "      <td>8.540000</td>\n",
       "      <td>1.000000</td>\n",
       "      <td>0.680000</td>\n",
       "    </tr>\n",
       "    <tr>\n",
       "      <th>75%</th>\n",
       "      <td>9.090000</td>\n",
       "      <td>271.918291</td>\n",
       "      <td>31.424920</td>\n",
       "      <td>8.250000</td>\n",
       "      <td>11.560000</td>\n",
       "      <td>3.720000</td>\n",
       "      <td>0.140000</td>\n",
       "      <td>0.140000</td>\n",
       "      <td>0.020000</td>\n",
       "      <td>0.150000</td>\n",
       "      <td>...</td>\n",
       "      <td>10.075000</td>\n",
       "      <td>9.116000</td>\n",
       "      <td>1.074000</td>\n",
       "      <td>1.040000</td>\n",
       "      <td>9.198900</td>\n",
       "      <td>0.021000</td>\n",
       "      <td>9.150000</td>\n",
       "      <td>9.230000</td>\n",
       "      <td>1.000000</td>\n",
       "      <td>1.040000</td>\n",
       "    </tr>\n",
       "    <tr>\n",
       "      <th>max</th>\n",
       "      <td>13.780000</td>\n",
       "      <td>359.978792</td>\n",
       "      <td>89.569409</td>\n",
       "      <td>772.330000</td>\n",
       "      <td>6767.260000</td>\n",
       "      <td>10326.930000</td>\n",
       "      <td>0.960000</td>\n",
       "      <td>0.990000</td>\n",
       "      <td>0.840000</td>\n",
       "      <td>0.900000</td>\n",
       "      <td>...</td>\n",
       "      <td>14.297000</td>\n",
       "      <td>12.058000</td>\n",
       "      <td>5.460000</td>\n",
       "      <td>9.030000</td>\n",
       "      <td>13.902600</td>\n",
       "      <td>1.976000</td>\n",
       "      <td>13.900000</td>\n",
       "      <td>15.090000</td>\n",
       "      <td>4.000000</td>\n",
       "      <td>9.290000</td>\n",
       "    </tr>\n",
       "  </tbody>\n",
       "</table>\n",
       "<p>8 rows × 26 columns</p>\n",
       "</div>"
      ],
      "text/plain": [
       "                Vmag          RAdeg          DEdeg            Plx  \\\n",
       "count  115184.000000  115184.000000  115184.000000  115184.000000   \n",
       "mean        8.311284     181.652596      -2.096376       7.093222   \n",
       "std         1.262852     103.204560      40.990343      11.053601   \n",
       "min        -1.440000       0.000912     -89.782454     -35.100000   \n",
       "25%         7.620000      93.728186     -36.633091       2.510000   \n",
       "50%         8.410000     182.029846      -1.810557       4.580000   \n",
       "75%         9.090000     271.918291      31.424920       8.250000   \n",
       "max        13.780000     359.978792      89.569409     772.330000   \n",
       "\n",
       "                pmRA           pmDE          DE:RA         Plx:RA  \\\n",
       "count  115184.000000  115184.000000  115184.000000  115184.000000   \n",
       "mean       -1.389287     -16.006394       0.002895       0.003344   \n",
       "std        96.190202      91.194513       0.211196       0.202258   \n",
       "min     -4410.790000   -5813.000000      -0.980000      -0.970000   \n",
       "25%       -14.940000     -21.300000      -0.140000      -0.130000   \n",
       "50%        -1.680000      -5.620000       0.000000       0.000000   \n",
       "75%        11.560000       3.720000       0.140000       0.140000   \n",
       "max      6767.260000   10326.930000       0.960000       0.990000   \n",
       "\n",
       "              Plx:DE        pmRA:RA  ...          BTmag          VTmag  \\\n",
       "count  115184.000000  115184.000000  ...  115184.000000  115184.000000   \n",
       "mean       -0.087301       0.009035  ...       9.138753       8.341448   \n",
       "std         0.155967       0.209510  ...       1.358993       1.192394   \n",
       "min        -0.780000      -0.990000  ...      -0.417000      -0.608000   \n",
       "25%        -0.190000      -0.120000  ...       8.365750       7.701000   \n",
       "50%        -0.090000       0.010000  ...       9.238000       8.444000   \n",
       "75%         0.020000       0.150000  ...      10.075000       9.116000   \n",
       "max         0.840000       0.900000  ...      14.297000      12.058000   \n",
       "\n",
       "                 B-V            V-I          Hpmag         Hpscat  \\\n",
       "count  115184.000000  115184.000000  115184.000000  115184.000000   \n",
       "mean        0.702655       0.758345       8.414627       0.023397   \n",
       "std         0.489156       0.562248       1.271257       0.062949   \n",
       "min        -0.400000      -0.420000      -1.087600       0.000000   \n",
       "25%         0.343000       0.400000       7.718800       0.012000   \n",
       "50%         0.609000       0.680000       8.518000       0.016000   \n",
       "75%         1.074000       1.040000       9.198900       0.021000   \n",
       "max         5.460000       9.030000      13.902600       1.976000   \n",
       "\n",
       "               Hpmax          HPmin          Ncomp       (V-I)red  \n",
       "count  115184.000000  115184.000000  115184.000000  115184.000000  \n",
       "mean        8.373840       8.453167       1.097368       0.754239  \n",
       "std         1.251787       1.286843       0.300574       0.583411  \n",
       "min        -1.170000      -0.980000       1.000000      -0.520000  \n",
       "25%         7.690000       7.750000       1.000000       0.400000  \n",
       "50%         8.480000       8.540000       1.000000       0.680000  \n",
       "75%         9.150000       9.230000       1.000000       1.040000  \n",
       "max        13.900000      15.090000       4.000000       9.290000  \n",
       "\n",
       "[8 rows x 26 columns]"
      ]
     },
     "execution_count": 85,
     "metadata": {},
     "output_type": "execute_result"
    }
   ],
   "source": [
    "data.select_dtypes(include=[\"number\"]).describe()"
   ]
  },
  {
   "cell_type": "code",
   "execution_count": 86,
   "id": "3067f8d8",
   "metadata": {},
   "outputs": [
    {
     "data": {
      "image/png": "[encoded data removed]",
      "text/plain": [
       "<Figure size 1200x3150 with 26 Axes>"
      ]
     },
     "metadata": {},
     "output_type": "display_data"
    }
   ],
   "source": [
    "cols_to_plot = [elt for elt in data.select_dtypes(include=['number']).columns]\n",
    "\n",
    "n = len(cols_to_plot)\n",
    "ncols = 3\n",
    "nrows = math.ceil(n / ncols)\n",
    "\n",
    "plt.figure(figsize=(4 * ncols, 3.5 * nrows))\n",
    "for i, col in enumerate(cols_to_plot, 1):\n",
    "    ax = plt.subplot(nrows, ncols, i)\n",
    "    sns.boxplot(x=data[col], whis=1.5, color='lightblue', orient='h')\n",
    "    ax.set_title(col)\n",
    "    ax.grid(axis='x', linestyle='--', alpha=0.4)\n",
    "\n",
    "plt.tight_layout()\n",
    "plt.show()"
   ]
  },
  {
   "cell_type": "code",
   "execution_count": 87,
   "id": "b1e2e75b",
   "metadata": {},
   "outputs": [
    {
     "data": {
      "image/png": "[encoded data removed]",
      "text/plain": [
       "<Figure size 1200x3150 with 26 Axes>"
      ]
     },
     "metadata": {},
     "output_type": "display_data"
    }
   ],
   "source": [
    "cols_to_plot = [elt for elt in data.columns if elt != 'SpType']\n",
    "\n",
    "numeric_cols = data.select_dtypes(include=[\"number\"]).columns\n",
    "\n",
    "for col in numeric_cols:\n",
    "    q_low, q_high = data[col].quantile([0.01, 0.99])\n",
    "    data[col] = data[col].clip(lower=q_low, upper=q_high)\n",
    "\n",
    "n = len(cols_to_plot)\n",
    "ncols = 3\n",
    "nrows = math.ceil(n / ncols)\n",
    "\n",
    "plt.figure(figsize=(4 * ncols, 3.5 * nrows))\n",
    "for i, col in enumerate(cols_to_plot, 1):\n",
    "    ax = plt.subplot(nrows, ncols, i)\n",
    "    sns.boxplot(x=data[col], whis=1.5, color='lightblue', orient='h')\n",
    "    ax.set_title(col)\n",
    "    ax.grid(axis='x', linestyle='--', alpha=0.4)\n",
    "\n",
    "plt.tight_layout()\n",
    "plt.show()"
   ]
  },
  {
   "cell_type": "code",
   "execution_count": 88,
   "id": "4cfe75d4",
   "metadata": {},
   "outputs": [
    {
     "data": {
      "application/vnd.microsoft.datawrangler.viewer.v0+json": {
       "columns": [
        {
         "name": "index",
         "rawType": "object",
         "type": "string"
        },
        {
         "name": "Vmag",
         "rawType": "float64",
         "type": "float"
        },
        {
         "name": "RAdeg",
         "rawType": "float64",
         "type": "float"
        },
        {
         "name": "DEdeg",
         "rawType": "float64",
         "type": "float"
        },
        {
         "name": "Plx",
         "rawType": "float64",
         "type": "float"
        },
        {
         "name": "pmRA",
         "rawType": "float64",
         "type": "float"
        },
        {
         "name": "pmDE",
         "rawType": "float64",
         "type": "float"
        },
        {
         "name": "DE:RA",
         "rawType": "float64",
         "type": "float"
        },
        {
         "name": "Plx:RA",
         "rawType": "float64",
         "type": "float"
        },
        {
         "name": "Plx:DE",
         "rawType": "float64",
         "type": "float"
        },
        {
         "name": "pmRA:RA",
         "rawType": "float64",
         "type": "float"
        },
        {
         "name": "pmRA:DE",
         "rawType": "float64",
         "type": "float"
        },
        {
         "name": "pmRA:Plx",
         "rawType": "float64",
         "type": "float"
        },
        {
         "name": "pmDE:RA",
         "rawType": "float64",
         "type": "float"
        },
        {
         "name": "pmDE:DE",
         "rawType": "float64",
         "type": "float"
        },
        {
         "name": "pmDE:Plx",
         "rawType": "float64",
         "type": "float"
        },
        {
         "name": "pmDE:pmRA",
         "rawType": "float64",
         "type": "float"
        },
        {
         "name": "BTmag",
         "rawType": "float64",
         "type": "float"
        },
        {
         "name": "VTmag",
         "rawType": "float64",
         "type": "float"
        },
        {
         "name": "B-V",
         "rawType": "float64",
         "type": "float"
        },
        {
         "name": "V-I",
         "rawType": "float64",
         "type": "float"
        },
        {
         "name": "Hpmag",
         "rawType": "float64",
         "type": "float"
        },
        {
         "name": "Hpscat",
         "rawType": "float64",
         "type": "float"
        },
        {
         "name": "Hpmax",
         "rawType": "float64",
         "type": "float"
        },
        {
         "name": "HPmin",
         "rawType": "float64",
         "type": "float"
        },
        {
         "name": "Ncomp",
         "rawType": "float64",
         "type": "float"
        },
        {
         "name": "(V-I)red",
         "rawType": "float64",
         "type": "float"
        }
       ],
       "ref": "acfcff1b-0d00-4f61-b02c-d9aa39c21a2d",
       "rows": [
        [
         "count",
         "115184.0",
         "115184.0",
         "115184.0",
         "115184.0",
         "115184.0",
         "115184.0",
         "115184.0",
         "115184.0",
         "115184.0",
         "115184.0",
         "115184.0",
         "115184.0",
         "115184.0",
         "115184.0",
         "115184.0",
         "115184.0",
         "115184.0",
         "115184.0",
         "115184.0",
         "115184.0",
         "115184.0",
         "115184.0",
         "115184.0",
         "115184.0",
         "115184.0",
         "115184.0"
        ],
        [
         "mean",
         "8.314741978052508",
         "181.6520337272406",
         "-2.0991681247875222",
         "6.790518065802903",
         "-1.6434816573216673",
         "-14.85569694751788",
         "0.0028818543519775505",
         "0.00335483754087262",
         "-0.08718050873703963",
         "0.009108065027517934",
         "-0.0009295809467070404",
         "0.003207066131311279",
         "-0.0011496993457207354",
         "-0.023269315656368774",
         "0.03058682379468006",
         "0.0054528063868840865",
         "9.144134508738821",
         "8.347762401482571",
         "0.7004182115874252",
         "0.7525339875303729",
         "8.418164789099873",
         "0.02032131264494114",
         "8.377822227351697",
         "8.456192809890961",
         "1.0961439905600847",
         "0.7454958153910266"
        ],
        [
         "std",
         "1.216597184016336",
         "103.13918917914754",
         "40.83562024348209",
         "7.371214171929909",
         "55.028676084139576",
         "50.5758568971019",
         "0.207461665457496",
         "0.199010018229479",
         "0.1528373155828699",
         "0.20517812703426364",
         "0.15348024159242368",
         "0.15639346495898415",
         "0.1443149977144948",
         "0.2606740068015635",
         "0.15894896626258584",
         "0.25390956976653273",
         "1.318971373943045",
         "1.1556900575116238",
         "0.4803510893159008",
         "0.5318896451859342",
         "1.225325826001907",
         "0.021279485310644202",
         "1.206756231253131",
         "1.2390183737155211",
         "0.294626862569642",
         "0.534508379800947"
        ],
        [
         "min",
         "4.72",
         "3.7069746726",
         "-78.26357482739999",
         "-1.23",
         "-231.0317",
         "-282.6055",
         "-0.48",
         "-0.45",
         "-0.47",
         "-0.51",
         "-0.41",
         "-0.38",
         "-0.38",
         "-0.6",
         "-0.35",
         "-0.58",
         "5.206",
         "4.80083",
         "-0.117",
         "-0.1",
         "4.781149",
         "0.005",
         "4.77",
         "4.81",
         "1.0",
         "-0.11"
        ],
        [
         "25%",
         "7.62",
         "93.72818638",
         "-36.6330908125",
         "2.51",
         "-14.94",
         "-21.3",
         "-0.14",
         "-0.13",
         "-0.19",
         "-0.12",
         "-0.09",
         "-0.1",
         "-0.09",
         "-0.2",
         "-0.08",
         "-0.17",
         "8.36575",
         "7.701",
         "0.343",
         "0.4",
         "7.7188",
         "0.012",
         "7.69",
         "7.75",
         "1.0",
         "0.4"
        ],
        [
         "50%",
         "8.41",
         "182.029845645",
         "-1.8105565000000001",
         "4.58",
         "-1.68",
         "-5.62",
         "0.0",
         "0.0",
         "-0.09",
         "0.01",
         "0.0",
         "0.0",
         "0.0",
         "-0.03",
         "0.03",
         "0.0",
         "9.238",
         "8.444",
         "0.609",
         "0.68",
         "8.518",
         "0.016",
         "8.48",
         "8.54",
         "1.0",
         "0.68"
        ],
        [
         "75%",
         "9.09",
         "271.91829076249996",
         "31.42491974",
         "8.25",
         "11.56",
         "3.72",
         "0.14",
         "0.14",
         "0.02",
         "0.15",
         "0.09",
         "0.1",
         "0.09",
         "0.14",
         "0.13",
         "0.18",
         "10.075",
         "9.116",
         "1.074",
         "1.04",
         "9.1989",
         "0.021",
         "9.15",
         "9.23",
         "1.0",
         "1.04"
        ],
        [
         "max",
         "11.25",
         "356.1973821586",
         "77.80485471559997",
         "44.43",
         "232.4622999999997",
         "122.92169999999999",
         "0.49",
         "0.49",
         "0.27",
         "0.49",
         "0.4",
         "0.4",
         "0.37",
         "0.62",
         "0.43",
         "0.59",
         "11.856",
         "10.743",
         "1.725",
         "2.63",
         "11.345552999999999",
         "0.174",
         "11.19",
         "11.51",
         "2.0",
         "2.65"
        ]
       ],
       "shape": {
        "columns": 26,
        "rows": 8
       }
      },
      "text/html": [
       "<div>\n",
       "<style scoped>\n",
       "    .dataframe tbody tr th:only-of-type {\n",
       "        vertical-align: middle;\n",
       "    }\n",
       "\n",
       "    .dataframe tbody tr th {\n",
       "        vertical-align: top;\n",
       "    }\n",
       "\n",
       "    .dataframe thead th {\n",
       "        text-align: right;\n",
       "    }\n",
       "</style>\n",
       "<table border=\"1\" class=\"dataframe\">\n",
       "  <thead>\n",
       "    <tr style=\"text-align: right;\">\n",
       "      <th></th>\n",
       "      <th>Vmag</th>\n",
       "      <th>RAdeg</th>\n",
       "      <th>DEdeg</th>\n",
       "      <th>Plx</th>\n",
       "      <th>pmRA</th>\n",
       "      <th>pmDE</th>\n",
       "      <th>DE:RA</th>\n",
       "      <th>Plx:RA</th>\n",
       "      <th>Plx:DE</th>\n",
       "      <th>pmRA:RA</th>\n",
       "      <th>...</th>\n",
       "      <th>BTmag</th>\n",
       "      <th>VTmag</th>\n",
       "      <th>B-V</th>\n",
       "      <th>V-I</th>\n",
       "      <th>Hpmag</th>\n",
       "      <th>Hpscat</th>\n",
       "      <th>Hpmax</th>\n",
       "      <th>HPmin</th>\n",
       "      <th>Ncomp</th>\n",
       "      <th>(V-I)red</th>\n",
       "    </tr>\n",
       "  </thead>\n",
       "  <tbody>\n",
       "    <tr>\n",
       "      <th>count</th>\n",
       "      <td>115184.000000</td>\n",
       "      <td>115184.000000</td>\n",
       "      <td>115184.000000</td>\n",
       "      <td>115184.000000</td>\n",
       "      <td>115184.000000</td>\n",
       "      <td>115184.000000</td>\n",
       "      <td>115184.000000</td>\n",
       "      <td>115184.000000</td>\n",
       "      <td>115184.000000</td>\n",
       "      <td>115184.000000</td>\n",
       "      <td>...</td>\n",
       "      <td>115184.000000</td>\n",
       "      <td>115184.000000</td>\n",
       "      <td>115184.000000</td>\n",
       "      <td>115184.000000</td>\n",
       "      <td>115184.000000</td>\n",
       "      <td>115184.000000</td>\n",
       "      <td>115184.000000</td>\n",
       "      <td>115184.000000</td>\n",
       "      <td>115184.000000</td>\n",
       "      <td>115184.000000</td>\n",
       "    </tr>\n",
       "    <tr>\n",
       "      <th>mean</th>\n",
       "      <td>8.314742</td>\n",
       "      <td>181.652034</td>\n",
       "      <td>-2.099168</td>\n",
       "      <td>6.790518</td>\n",
       "      <td>-1.643482</td>\n",
       "      <td>-14.855697</td>\n",
       "      <td>0.002882</td>\n",
       "      <td>0.003355</td>\n",
       "      <td>-0.087181</td>\n",
       "      <td>0.009108</td>\n",
       "      <td>...</td>\n",
       "      <td>9.144135</td>\n",
       "      <td>8.347762</td>\n",
       "      <td>0.700418</td>\n",
       "      <td>0.752534</td>\n",
       "      <td>8.418165</td>\n",
       "      <td>0.020321</td>\n",
       "      <td>8.377822</td>\n",
       "      <td>8.456193</td>\n",
       "      <td>1.096144</td>\n",
       "      <td>0.745496</td>\n",
       "    </tr>\n",
       "    <tr>\n",
       "      <th>std</th>\n",
       "      <td>1.216597</td>\n",
       "      <td>103.139189</td>\n",
       "      <td>40.835620</td>\n",
       "      <td>7.371214</td>\n",
       "      <td>55.028676</td>\n",
       "      <td>50.575857</td>\n",
       "      <td>0.207462</td>\n",
       "      <td>0.199010</td>\n",
       "      <td>0.152837</td>\n",
       "      <td>0.205178</td>\n",
       "      <td>...</td>\n",
       "      <td>1.318971</td>\n",
       "      <td>1.155690</td>\n",
       "      <td>0.480351</td>\n",
       "      <td>0.531890</td>\n",
       "      <td>1.225326</td>\n",
       "      <td>0.021279</td>\n",
       "      <td>1.206756</td>\n",
       "      <td>1.239018</td>\n",
       "      <td>0.294627</td>\n",
       "      <td>0.534508</td>\n",
       "    </tr>\n",
       "    <tr>\n",
       "      <th>min</th>\n",
       "      <td>4.720000</td>\n",
       "      <td>3.706975</td>\n",
       "      <td>-78.263575</td>\n",
       "      <td>-1.230000</td>\n",
       "      <td>-231.031700</td>\n",
       "      <td>-282.605500</td>\n",
       "      <td>-0.480000</td>\n",
       "      <td>-0.450000</td>\n",
       "      <td>-0.470000</td>\n",
       "      <td>-0.510000</td>\n",
       "      <td>...</td>\n",
       "      <td>5.206000</td>\n",
       "      <td>4.800830</td>\n",
       "      <td>-0.117000</td>\n",
       "      <td>-0.100000</td>\n",
       "      <td>4.781149</td>\n",
       "      <td>0.005000</td>\n",
       "      <td>4.770000</td>\n",
       "      <td>4.810000</td>\n",
       "      <td>1.000000</td>\n",
       "      <td>-0.110000</td>\n",
       "    </tr>\n",
       "    <tr>\n",
       "      <th>25%</th>\n",
       "      <td>7.620000</td>\n",
       "      <td>93.728186</td>\n",
       "      <td>-36.633091</td>\n",
       "      <td>2.510000</td>\n",
       "      <td>-14.940000</td>\n",
       "      <td>-21.300000</td>\n",
       "      <td>-0.140000</td>\n",
       "      <td>-0.130000</td>\n",
       "      <td>-0.190000</td>\n",
       "      <td>-0.120000</td>\n",
       "      <td>...</td>\n",
       "      <td>8.365750</td>\n",
       "      <td>7.701000</td>\n",
       "      <td>0.343000</td>\n",
       "      <td>0.400000</td>\n",
       "      <td>7.718800</td>\n",
       "      <td>0.012000</td>\n",
       "      <td>7.690000</td>\n",
       "      <td>7.750000</td>\n",
       "      <td>1.000000</td>\n",
       "      <td>0.400000</td>\n",
       "    </tr>\n",
       "    <tr>\n",
       "      <th>50%</th>\n",
       "      <td>8.410000</td>\n",
       "      <td>182.029846</td>\n",
       "      <td>-1.810557</td>\n",
       "      <td>4.580000</td>\n",
       "      <td>-1.680000</td>\n",
       "      <td>-5.620000</td>\n",
       "      <td>0.000000</td>\n",
       "      <td>0.000000</td>\n",
       "      <td>-0.090000</td>\n",
       "      <td>0.010000</td>\n",
       "      <td>...</td>\n",
       "      <td>9.238000</td>\n",
       "      <td>8.444000</td>\n",
       "      <td>0.609000</td>\n",
       "      <td>0.680000</td>\n",
       "      <td>8.518000</td>\n",
       "      <td>0.016000</td>\n",
       "      <td>8.480000</td>\n",
       "      <td>8.540000</td>\n",
       "      <td>1.000000</td>\n",
       "      <td>0.680000</td>\n",
       "    </tr>\n",
       "    <tr>\n",
       "      <th>75%</th>\n",
       "      <td>9.090000</td>\n",
       "      <td>271.918291</td>\n",
       "      <td>31.424920</td>\n",
       "      <td>8.250000</td>\n",
       "      <td>11.560000</td>\n",
       "      <td>3.720000</td>\n",
       "      <td>0.140000</td>\n",
       "      <td>0.140000</td>\n",
       "      <td>0.020000</td>\n",
       "      <td>0.150000</td>\n",
       "      <td>...</td>\n",
       "      <td>10.075000</td>\n",
       "      <td>9.116000</td>\n",
       "      <td>1.074000</td>\n",
       "      <td>1.040000</td>\n",
       "      <td>9.198900</td>\n",
       "      <td>0.021000</td>\n",
       "      <td>9.150000</td>\n",
       "      <td>9.230000</td>\n",
       "      <td>1.000000</td>\n",
       "      <td>1.040000</td>\n",
       "    </tr>\n",
       "    <tr>\n",
       "      <th>max</th>\n",
       "      <td>11.250000</td>\n",
       "      <td>356.197382</td>\n",
       "      <td>77.804855</td>\n",
       "      <td>44.430000</td>\n",
       "      <td>232.462300</td>\n",
       "      <td>122.921700</td>\n",
       "      <td>0.490000</td>\n",
       "      <td>0.490000</td>\n",
       "      <td>0.270000</td>\n",
       "      <td>0.490000</td>\n",
       "      <td>...</td>\n",
       "      <td>11.856000</td>\n",
       "      <td>10.743000</td>\n",
       "      <td>1.725000</td>\n",
       "      <td>2.630000</td>\n",
       "      <td>11.345553</td>\n",
       "      <td>0.174000</td>\n",
       "      <td>11.190000</td>\n",
       "      <td>11.510000</td>\n",
       "      <td>2.000000</td>\n",
       "      <td>2.650000</td>\n",
       "    </tr>\n",
       "  </tbody>\n",
       "</table>\n",
       "<p>8 rows × 26 columns</p>\n",
       "</div>"
      ],
      "text/plain": [
       "                Vmag          RAdeg          DEdeg            Plx  \\\n",
       "count  115184.000000  115184.000000  115184.000000  115184.000000   \n",
       "mean        8.314742     181.652034      -2.099168       6.790518   \n",
       "std         1.216597     103.139189      40.835620       7.371214   \n",
       "min         4.720000       3.706975     -78.263575      -1.230000   \n",
       "25%         7.620000      93.728186     -36.633091       2.510000   \n",
       "50%         8.410000     182.029846      -1.810557       4.580000   \n",
       "75%         9.090000     271.918291      31.424920       8.250000   \n",
       "max        11.250000     356.197382      77.804855      44.430000   \n",
       "\n",
       "                pmRA           pmDE          DE:RA         Plx:RA  \\\n",
       "count  115184.000000  115184.000000  115184.000000  115184.000000   \n",
       "mean       -1.643482     -14.855697       0.002882       0.003355   \n",
       "std        55.028676      50.575857       0.207462       0.199010   \n",
       "min      -231.031700    -282.605500      -0.480000      -0.450000   \n",
       "25%       -14.940000     -21.300000      -0.140000      -0.130000   \n",
       "50%        -1.680000      -5.620000       0.000000       0.000000   \n",
       "75%        11.560000       3.720000       0.140000       0.140000   \n",
       "max       232.462300     122.921700       0.490000       0.490000   \n",
       "\n",
       "              Plx:DE        pmRA:RA  ...          BTmag          VTmag  \\\n",
       "count  115184.000000  115184.000000  ...  115184.000000  115184.000000   \n",
       "mean       -0.087181       0.009108  ...       9.144135       8.347762   \n",
       "std         0.152837       0.205178  ...       1.318971       1.155690   \n",
       "min        -0.470000      -0.510000  ...       5.206000       4.800830   \n",
       "25%        -0.190000      -0.120000  ...       8.365750       7.701000   \n",
       "50%        -0.090000       0.010000  ...       9.238000       8.444000   \n",
       "75%         0.020000       0.150000  ...      10.075000       9.116000   \n",
       "max         0.270000       0.490000  ...      11.856000      10.743000   \n",
       "\n",
       "                 B-V            V-I          Hpmag         Hpscat  \\\n",
       "count  115184.000000  115184.000000  115184.000000  115184.000000   \n",
       "mean        0.700418       0.752534       8.418165       0.020321   \n",
       "std         0.480351       0.531890       1.225326       0.021279   \n",
       "min        -0.117000      -0.100000       4.781149       0.005000   \n",
       "25%         0.343000       0.400000       7.718800       0.012000   \n",
       "50%         0.609000       0.680000       8.518000       0.016000   \n",
       "75%         1.074000       1.040000       9.198900       0.021000   \n",
       "max         1.725000       2.630000      11.345553       0.174000   \n",
       "\n",
       "               Hpmax          HPmin          Ncomp       (V-I)red  \n",
       "count  115184.000000  115184.000000  115184.000000  115184.000000  \n",
       "mean        8.377822       8.456193       1.096144       0.745496  \n",
       "std         1.206756       1.239018       0.294627       0.534508  \n",
       "min         4.770000       4.810000       1.000000      -0.110000  \n",
       "25%         7.690000       7.750000       1.000000       0.400000  \n",
       "50%         8.480000       8.540000       1.000000       0.680000  \n",
       "75%         9.150000       9.230000       1.000000       1.040000  \n",
       "max        11.190000      11.510000       2.000000       2.650000  \n",
       "\n",
       "[8 rows x 26 columns]"
      ]
     },
     "execution_count": 88,
     "metadata": {},
     "output_type": "execute_result"
    }
   ],
   "source": [
    "data.select_dtypes(include=[\"number\"]).describe()"
   ]
  },
  {
   "cell_type": "markdown",
   "id": "99bae8cd",
   "metadata": {},
   "source": [
    "### Convertir les types de données si nécessaire (par exemple, s'assurer que les colonnes d'identifiants sont bien des chaînes de caractères).\n"
   ]
  },
  {
   "cell_type": "markdown",
   "id": "a4235c26",
   "metadata": {},
   "source": [
    "## Analyse descriptive :\n",
    "\n",
    "### Calculer des statistiques descriptives pour différentes colonnes (moyenne, médiane, écart-type, minimum, maximum, quartiles) sur l'ensemble des données ou des sous-ensembles de colonnes."
   ]
  },
  {
   "cell_type": "markdown",
   "id": "cd41dcab",
   "metadata": {},
   "source": [
    "### Créer des histogrammes et des diagrammes de dispersion pour visualiser la distribution des données et les relations entre les variables."
   ]
  },
  {
   "cell_type": "markdown",
   "id": "9a933f39",
   "metadata": {},
   "source": [
    "### Calculer la matrice de corrélation et l'interpréter. Quelles variables sont fortement corrélées ?"
   ]
  },
  {
   "cell_type": "markdown",
   "id": "465b4287",
   "metadata": {},
   "source": [
    "## Visualisation\n",
    "\n",
    "### Utiliser des bibliothèques comme Matplotlib ou Seaborn pour créer des visualisations plus avancées."
   ]
  },
  {
   "cell_type": "markdown",
   "id": "e660480f",
   "metadata": {},
   "source": [
    "### Représenter la position des étoiles sur une carte du ciel (en utilisant RA et Dec)."
   ]
  },
  {
   "cell_type": "markdown",
   "id": "de5a18f5",
   "metadata": {},
   "source": [
    "### Explorer les relations entre la magnitude, la couleur et la distance des étoiles."
   ]
  },
  {
   "cell_type": "markdown",
   "id": "ab72f175",
   "metadata": {},
   "source": [
    "## Feature Engineering\n",
    "\n",
    "### Créer de nouvelles colonnes à partir des colonnes existantes. Par exemple, calculer la distance des étoiles à partir de la parallaxe (distance = 1 / parallaxe). Attention aux unités !"
   ]
  },
  {
   "cell_type": "markdown",
   "id": "74713743",
   "metadata": {},
   "source": [
    "### Créer des catégories d'étoiles en fonction de leur type spectral ou de leur variabilité."
   ]
  },
  {
   "cell_type": "markdown",
   "id": "69a52945",
   "metadata": {},
   "source": [
    "## Machine Learning\n",
    "\n",
    "### Prédire le type spectral d'une étoile à partir de ses autres caractéristiques."
   ]
  },
  {
   "cell_type": "markdown",
   "id": "17723d5a",
   "metadata": {},
   "source": [
    "### Regrouper les étoiles en clusters en fonction de leurs propriétés (clustering)."
   ]
  },
  {
   "cell_type": "markdown",
   "id": "dd96ccec",
   "metadata": {},
   "source": [
    "### Détecter les étoiles variables."
   ]
  },
  {
   "cell_type": "markdown",
   "id": "d5e0a694",
   "metadata": {},
   "source": []
  }
 ],
 "metadata": {
  "kernelspec": {
   "display_name": "Python 3",
   "language": "python",
   "name": "python3"
  },
  "language_info": {
   "codemirror_mode": {
    "name": "ipython",
    "version": 3
   },
   "file_extension": ".py",
   "mimetype": "text/x-python",
   "name": "python",
   "nbconvert_exporter": "python",
   "pygments_lexer": "ipython3",
   "version": "3.11.9"
  }
 },
 "nbformat": 4,
 "nbformat_minor": 5
}
