{
 "cells": [
  {
   "cell_type": "markdown",
   "id": "08996110",
   "metadata": {},
   "source": [
    "# Description des colonnes (Explication par : Gemini 2.0 Flash)\n",
    "\n",
    "**Identifiants et références croisées :**\n",
    "\n",
    "*   **Catalog:** Désignation de l'étoile dans un catalogue stellaire spécifique.\n",
    "*   **HIP:** Numéro de catalogue Hipparcos (identifiant unique pour chaque étoile du catalogue Hipparcos).\n",
    "*   **Proxy:** Indique une possible entrée en double dans le catalogue.\n",
    "*   **HD, BD, CoD, CPD:** Références croisées à d'autres catalogues d'étoiles (Henry Draper, Bonner Durchmusterung, Cordoba Durchmusterung, Cape Photographic Durchmusterung).\n",
    "*   **CCDM:** Identifiant du Catalogue des composantes d'étoiles doubles et multiples.\n",
    "*   **Nsys:** Nombre de systèmes dont cette étoile fait partie.\n",
    "*   **Ncomp:** Nombre de composantes dans le système.\n",
    "\n",
    "**Données astrométriques :**\n",
    "\n",
    "*   **RAhms, DEdms:** Ascension droite et déclinaison en heures, minutes, secondes et degrés, minutes d'arc, secondes d'arc.\n",
    "*   **RAdeg, DEdeg:** Ascension droite et déclinaison en degrés décimaux.\n",
    "*   **Plx:** Parallaxe (en millièmes de seconde d'arc), une mesure de la distance de l'étoile.\n",
    "*   **pmRA, pmDE:** Mouvement propre en ascension droite et déclinaison (mas/an), indiquant le mouvement de l'étoile dans le ciel.\n",
    "*   **e\\_RAdeg, e\\_DEdeg, e\\_Plx, e\\_pmRA, e\\_pmDE:** Erreurs standard pour RA, Dec, Parallaxe et mouvements propres.\n",
    "*   **DE:RA, Plx:RA, Plx:DE, pmRA:RA, pmRA:DE, pmRA:Plx, pmDE:RA, pmDE:DE, pmDE:Plx, pmDE:pmRA:** Coefficients de corrélation entre les paramètres astrométriques.\n",
    "*   **AstroRef:** Référence pour les données astrométriques.\n",
    "\n",
    "**Données photométriques (Luminosité/Magnitude) :**\n",
    "\n",
    "*   **Vmag:** Magnitude visuelle (luminosité dans le spectre visible).\n",
    "*   **BTmag, VTmag:** Magnitudes B et V du catalogue Tycho.\n",
    "*   **Hpmag:** Magnitude Hipparcos (luminosité mesurée par le satellite Hipparcos).\n",
    "*   **B-V, V-I:** Indices de couleur (différences de magnitude entre différents filtres, liées à la température de l'étoile).\n",
    "*   **e\\_BTmag, e\\_VTmag, e\\_Hpmag, e\\_B-V, e\\_V-I:** Erreurs standard pour les magnitudes et les indices de couleur.\n",
    "*   **r\\_Vmag, r\\_B-V, r\\_V-I:** Indicateurs signalant la fiabilité/qualité des mesures de magnitude et d'indice de couleur.\n",
    "*   **CombMag:** Magnitude combinée.\n",
    "\n",
    "**Informations sur la variabilité :**\n",
    "\n",
    "*   **VarFlag:** Indicateur signalant la variabilité de la luminosité de l'étoile.\n",
    "*   **Hpscat:** Dispersion de la magnitude Hipparcos.\n",
    "*   **o\\_Hpmag:** Nombre d'observations pour Hpmag.\n",
    "*   **Hpmax, HPmin:** Magnitude Hipparcos maximale et minimale.\n",
    "*   **Period:** Période de variabilité (si l'étoile est variable).\n",
    "*   **HvarType:** Type de variabilité (par exemple, Céphéide, Binaire à éclipses).\n",
    "*   **moreVar, morePhoto:** Indicateurs signalant des données de variabilité ou photométriques supplémentaires.\n",
    "\n",
    "**Autres indicateurs et informations :**\n",
    "\n",
    "*   **MultFlag:** Indicateur signalant si l'étoile est un système d'étoiles multiples.\n",
    "*   **Source:** Source des données.\n",
    "*   **Qual:** Indicateur de qualité pour les données.\n",
    "*   **m\\_HIP, m\\_BTmag, m\\_Hpmag:** Indicateurs signalant la source des données.\n",
    "*   **theta, rho, e\\_rho:** Angle de position et séparation pour les étoiles doubles/multiples.\n",
    "*   **dHp, e\\_dHp:** Différence entre Hpmag et la magnitude prédite.\n",
    "*   **Survey, Chart, Notes:** Références à des relevés, cartes et notes.\n",
    "*   **SpType:** Type spectral (classification de l'étoile basée sur son spectre).\n",
    "*   **(V-I)red:** Indice de couleur sans rougissement.\n",
    "*   **r\\_SpType:** Indicateur signalant la fiabilité/qualité du type spectral.\n",
    "*   **F1, F2, ---:** Colonnes inconnues.\n"
   ]
  },
  {
   "cell_type": "code",
   "execution_count": 82,
   "id": "2f868560",
   "metadata": {},
   "outputs": [
    {
     "data": {
      "application/vnd.microsoft.datawrangler.viewer.v0+json": {
       "columns": [
        {
         "name": "index",
         "rawType": "int64",
         "type": "integer"
        },
        {
         "name": "Catalog",
         "rawType": "object",
         "type": "string"
        },
        {
         "name": "HIP",
         "rawType": "int64",
         "type": "integer"
        },
        {
         "name": "Proxy",
         "rawType": "object",
         "type": "unknown"
        },
        {
         "name": "RAhms",
         "rawType": "object",
         "type": "string"
        },
        {
         "name": "DEdms",
         "rawType": "object",
         "type": "string"
        },
        {
         "name": "Vmag",
         "rawType": "float64",
         "type": "float"
        },
        {
         "name": "VarFlag",
         "rawType": "float64",
         "type": "float"
        },
        {
         "name": "r_Vmag",
         "rawType": "object",
         "type": "string"
        },
        {
         "name": "RAdeg",
         "rawType": "float64",
         "type": "float"
        },
        {
         "name": "DEdeg",
         "rawType": "float64",
         "type": "float"
        },
        {
         "name": "AstroRef",
         "rawType": "object",
         "type": "unknown"
        },
        {
         "name": "Plx",
         "rawType": "float64",
         "type": "float"
        },
        {
         "name": "pmRA",
         "rawType": "float64",
         "type": "float"
        },
        {
         "name": "pmDE",
         "rawType": "float64",
         "type": "float"
        },
        {
         "name": "e_RAdeg",
         "rawType": "float64",
         "type": "float"
        },
        {
         "name": "e_DEdeg",
         "rawType": "float64",
         "type": "float"
        },
        {
         "name": "e_Plx",
         "rawType": "float64",
         "type": "float"
        },
        {
         "name": "e_pmRA",
         "rawType": "float64",
         "type": "float"
        },
        {
         "name": "e_pmDE",
         "rawType": "float64",
         "type": "float"
        },
        {
         "name": "DE:RA",
         "rawType": "float64",
         "type": "float"
        },
        {
         "name": "Plx:RA",
         "rawType": "float64",
         "type": "float"
        },
        {
         "name": "Plx:DE",
         "rawType": "float64",
         "type": "float"
        },
        {
         "name": "pmRA:RA",
         "rawType": "float64",
         "type": "float"
        },
        {
         "name": "pmRA:DE",
         "rawType": "float64",
         "type": "float"
        },
        {
         "name": "pmRA:Plx",
         "rawType": "float64",
         "type": "float"
        },
        {
         "name": "pmDE:RA",
         "rawType": "float64",
         "type": "float"
        },
        {
         "name": "pmDE:DE",
         "rawType": "float64",
         "type": "float"
        },
        {
         "name": "pmDE:Plx",
         "rawType": "float64",
         "type": "float"
        },
        {
         "name": "pmDE:pmRA",
         "rawType": "float64",
         "type": "float"
        },
        {
         "name": "F1",
         "rawType": "float64",
         "type": "float"
        },
        {
         "name": "F2",
         "rawType": "float64",
         "type": "float"
        },
        {
         "name": "---",
         "rawType": "int64",
         "type": "integer"
        },
        {
         "name": "BTmag",
         "rawType": "float64",
         "type": "float"
        },
        {
         "name": "e_BTmag",
         "rawType": "float64",
         "type": "float"
        },
        {
         "name": "VTmag",
         "rawType": "float64",
         "type": "float"
        },
        {
         "name": "e_VTmag",
         "rawType": "float64",
         "type": "float"
        },
        {
         "name": "m_BTmag",
         "rawType": "object",
         "type": "unknown"
        },
        {
         "name": "B-V",
         "rawType": "float64",
         "type": "float"
        },
        {
         "name": "e_B-V",
         "rawType": "float64",
         "type": "float"
        },
        {
         "name": "r_B-V",
         "rawType": "object",
         "type": "string"
        },
        {
         "name": "V-I",
         "rawType": "float64",
         "type": "float"
        },
        {
         "name": "e_V-I",
         "rawType": "float64",
         "type": "float"
        },
        {
         "name": "r_V-I",
         "rawType": "object",
         "type": "string"
        },
        {
         "name": "CombMag",
         "rawType": "object",
         "type": "unknown"
        },
        {
         "name": "Hpmag",
         "rawType": "float64",
         "type": "float"
        },
        {
         "name": "e_Hpmag",
         "rawType": "float64",
         "type": "float"
        },
        {
         "name": "Hpscat",
         "rawType": "float64",
         "type": "float"
        },
        {
         "name": "o_Hpmag",
         "rawType": "float64",
         "type": "float"
        },
        {
         "name": "m_Hpmag",
         "rawType": "object",
         "type": "unknown"
        },
        {
         "name": "Hpmax",
         "rawType": "float64",
         "type": "float"
        },
        {
         "name": "HPmin",
         "rawType": "float64",
         "type": "float"
        },
        {
         "name": "Period",
         "rawType": "float64",
         "type": "float"
        },
        {
         "name": "HvarType",
         "rawType": "object",
         "type": "unknown"
        },
        {
         "name": "moreVar",
         "rawType": "float64",
         "type": "float"
        },
        {
         "name": "morePhoto",
         "rawType": "object",
         "type": "unknown"
        },
        {
         "name": "CCDM",
         "rawType": "object",
         "type": "unknown"
        },
        {
         "name": "n_CCDM",
         "rawType": "object",
         "type": "unknown"
        },
        {
         "name": "Nsys",
         "rawType": "float64",
         "type": "float"
        },
        {
         "name": "Ncomp",
         "rawType": "float64",
         "type": "float"
        },
        {
         "name": "MultFlag",
         "rawType": "object",
         "type": "unknown"
        },
        {
         "name": "Source",
         "rawType": "object",
         "type": "unknown"
        },
        {
         "name": "Qual",
         "rawType": "object",
         "type": "unknown"
        },
        {
         "name": "m_HIP",
         "rawType": "object",
         "type": "unknown"
        },
        {
         "name": "theta",
         "rawType": "float64",
         "type": "float"
        },
        {
         "name": "rho",
         "rawType": "float64",
         "type": "float"
        },
        {
         "name": "e_rho",
         "rawType": "float64",
         "type": "float"
        },
        {
         "name": "dHp",
         "rawType": "float64",
         "type": "float"
        },
        {
         "name": "e_dHp",
         "rawType": "float64",
         "type": "float"
        },
        {
         "name": "Survey",
         "rawType": "object",
         "type": "unknown"
        },
        {
         "name": "Chart",
         "rawType": "object",
         "type": "unknown"
        },
        {
         "name": "Notes",
         "rawType": "object",
         "type": "unknown"
        },
        {
         "name": "HD",
         "rawType": "float64",
         "type": "float"
        },
        {
         "name": "BD",
         "rawType": "object",
         "type": "unknown"
        },
        {
         "name": "CoD",
         "rawType": "object",
         "type": "unknown"
        },
        {
         "name": "CPD",
         "rawType": "object",
         "type": "unknown"
        },
        {
         "name": "(V-I)red",
         "rawType": "float64",
         "type": "float"
        },
        {
         "name": "SpType",
         "rawType": "object",
         "type": "string"
        },
        {
         "name": "r_SpType",
         "rawType": "object",
         "type": "string"
        }
       ],
       "ref": "12ea5b7d-b202-4038-8266-2c878442eccc",
       "rows": [
        [
         "0",
         "H",
         "1",
         null,
         "00 00 00.22",
         "+01 05 20.4",
         "9.1",
         null,
         "H",
         "0.00091185",
         "1.08901332",
         null,
         "3.54",
         "-5.2",
         "-1.88",
         "1.32",
         "0.74",
         "1.39",
         "1.36",
         "0.81",
         "0.32",
         "-0.07",
         "-0.11",
         "-0.24",
         "0.09",
         "-0.01",
         "0.1",
         "-0.01",
         "0.01",
         "0.34",
         "0.0",
         "0.74",
         "1",
         "9.643",
         "0.02",
         "9.13",
         "0.019",
         null,
         "0.482",
         "0.025",
         "T",
         "0.55",
         "0.03",
         "L",
         null,
         "9.2043",
         "0.002",
         "0.017",
         "87.0",
         null,
         "9.17",
         "9.24",
         null,
         null,
         null,
         null,
         null,
         null,
         null,
         "1.0",
         null,
         null,
         null,
         null,
         null,
         null,
         null,
         null,
         null,
         "S",
         null,
         null,
         "224700.0",
         "B+00 5077",
         null,
         null,
         "0.66",
         "F5",
         "S"
        ],
        [
         "1",
         "H",
         "2",
         null,
         "00 00 00.91",
         "-19 29 55.8",
         "9.27",
         null,
         "G",
         "0.00379737",
         "-19.49883745",
         "+",
         "21.9",
         "181.21",
         "-0.93",
         "1.28",
         "0.7",
         "3.1",
         "1.74",
         "0.92",
         "0.12",
         "-0.14",
         "-0.24",
         "-0.29",
         "0.01",
         "0.21",
         "-0.02",
         "-0.19",
         "-0.28",
         "0.14",
         "2.0",
         "1.45",
         "2",
         "10.519",
         "0.033",
         "9.378",
         "0.021",
         null,
         "0.999",
         "0.002",
         "G",
         "1.04",
         "0.0",
         "I",
         null,
         "9.4017",
         "0.0017",
         "0.015",
         "120.0",
         null,
         "9.37",
         "9.44",
         null,
         "C",
         null,
         null,
         null,
         null,
         null,
         "1.0",
         "O",
         null,
         null,
         null,
         null,
         null,
         null,
         null,
         null,
         null,
         null,
         null,
         "224690.0",
         "B-20 6688",
         null,
         null,
         "1.04",
         "K3V",
         "4"
        ],
        [
         "2",
         "H",
         "3",
         null,
         "00 00 01.20",
         "+38 51 33.4",
         "6.61",
         null,
         "G",
         "0.00500795",
         "38.85928608",
         null,
         "2.81",
         "5.24",
         "-2.91",
         "0.53",
         "0.4",
         "0.63",
         "0.57",
         "0.47",
         "0.06",
         "0.09",
         "0.04",
         "0.43",
         "-0.01",
         "-0.06",
         "0.03",
         "0.24",
         "0.07",
         "0.21",
         "0.0",
         "-0.45",
         "3",
         "6.576",
         "0.004",
         "6.621",
         "0.005",
         null,
         "-0.019",
         "0.004",
         "G",
         "0.0",
         "0.0",
         "H",
         null,
         "6.6081",
         "0.0007",
         "0.008",
         "127.0",
         null,
         "6.6",
         "6.62",
         null,
         "C",
         null,
         null,
         "00000+3852",
         "I",
         "1.0",
         "1.0",
         null,
         null,
         null,
         null,
         null,
         null,
         null,
         null,
         null,
         "S",
         null,
         null,
         "224699.0",
         "B+38 5108",
         null,
         null,
         "0.0",
         "B9",
         "S"
        ],
        [
         "3",
         "H",
         "4",
         null,
         "00 00 02.01",
         "-51 53 36.8",
         "8.06",
         null,
         "H",
         "0.0083817",
         "-51.89354612",
         null,
         "7.75",
         "62.85",
         "0.16",
         "0.53",
         "0.59",
         "0.97",
         "0.65",
         "0.65",
         "-0.22",
         "-0.09",
         "-0.03",
         "0.24",
         "0.2",
         "0.08",
         "0.18",
         "0.08",
         "-0.31",
         "-0.18",
         "0.0",
         "-1.46",
         "4",
         "8.471",
         "0.007",
         "8.092",
         "0.007",
         null,
         "0.37",
         "0.009",
         "T",
         "0.43",
         "0.01",
         "L",
         null,
         "8.1498",
         "0.0011",
         "0.015",
         "201.0",
         null,
         "8.12",
         "8.18",
         null,
         null,
         null,
         null,
         null,
         null,
         null,
         "1.0",
         null,
         null,
         null,
         null,
         null,
         null,
         null,
         null,
         null,
         "S",
         null,
         null,
         "224707.0",
         null,
         null,
         "P-52 12237",
         "0.43",
         "F0V",
         "2"
        ],
        [
         "4",
         "H",
         "5",
         null,
         "00 00 02.39",
         "-40 35 28.4",
         "8.55",
         null,
         "H",
         "0.00996534",
         "-40.5912244",
         null,
         "2.87",
         "2.53",
         "9.07",
         "0.64",
         "0.61",
         "1.11",
         "0.67",
         "0.74",
         "0.1",
         "0.24",
         "0.06",
         "0.26",
         "-0.1",
         "0.2",
         "-0.16",
         "-0.3",
         "-0.19",
         "0.06",
         "0.0",
         "-1.24",
         "5",
         "9.693",
         "0.014",
         "8.656",
         "0.01",
         null,
         "0.902",
         "0.013",
         "T",
         "0.9",
         "0.01",
         "L",
         null,
         "8.7077",
         "0.0018",
         "0.019",
         "161.0",
         null,
         "8.68",
         "8.74",
         null,
         null,
         null,
         null,
         null,
         null,
         null,
         "1.0",
         null,
         null,
         null,
         null,
         null,
         null,
         null,
         null,
         null,
         null,
         null,
         null,
         "224705.0",
         null,
         "C-41 15372",
         "P-41  9991",
         "0.95",
         "G8III",
         "2"
        ]
       ],
       "shape": {
        "columns": 78,
        "rows": 5
       }
      },
      "text/html": [
       "<div>\n",
       "<style scoped>\n",
       "    .dataframe tbody tr th:only-of-type {\n",
       "        vertical-align: middle;\n",
       "    }\n",
       "\n",
       "    .dataframe tbody tr th {\n",
       "        vertical-align: top;\n",
       "    }\n",
       "\n",
       "    .dataframe thead th {\n",
       "        text-align: right;\n",
       "    }\n",
       "</style>\n",
       "<table border=\"1\" class=\"dataframe\">\n",
       "  <thead>\n",
       "    <tr style=\"text-align: right;\">\n",
       "      <th></th>\n",
       "      <th>Catalog</th>\n",
       "      <th>HIP</th>\n",
       "      <th>Proxy</th>\n",
       "      <th>RAhms</th>\n",
       "      <th>DEdms</th>\n",
       "      <th>Vmag</th>\n",
       "      <th>VarFlag</th>\n",
       "      <th>r_Vmag</th>\n",
       "      <th>RAdeg</th>\n",
       "      <th>DEdeg</th>\n",
       "      <th>...</th>\n",
       "      <th>Survey</th>\n",
       "      <th>Chart</th>\n",
       "      <th>Notes</th>\n",
       "      <th>HD</th>\n",
       "      <th>BD</th>\n",
       "      <th>CoD</th>\n",
       "      <th>CPD</th>\n",
       "      <th>(V-I)red</th>\n",
       "      <th>SpType</th>\n",
       "      <th>r_SpType</th>\n",
       "    </tr>\n",
       "  </thead>\n",
       "  <tbody>\n",
       "    <tr>\n",
       "      <th>0</th>\n",
       "      <td>H</td>\n",
       "      <td>1</td>\n",
       "      <td>NaN</td>\n",
       "      <td>00 00 00.22</td>\n",
       "      <td>+01 05 20.4</td>\n",
       "      <td>9.10</td>\n",
       "      <td>NaN</td>\n",
       "      <td>H</td>\n",
       "      <td>0.000912</td>\n",
       "      <td>1.089013</td>\n",
       "      <td>...</td>\n",
       "      <td>S</td>\n",
       "      <td>NaN</td>\n",
       "      <td>NaN</td>\n",
       "      <td>224700.0</td>\n",
       "      <td>B+00 5077</td>\n",
       "      <td>NaN</td>\n",
       "      <td>NaN</td>\n",
       "      <td>0.66</td>\n",
       "      <td>F5</td>\n",
       "      <td>S</td>\n",
       "    </tr>\n",
       "    <tr>\n",
       "      <th>1</th>\n",
       "      <td>H</td>\n",
       "      <td>2</td>\n",
       "      <td>NaN</td>\n",
       "      <td>00 00 00.91</td>\n",
       "      <td>-19 29 55.8</td>\n",
       "      <td>9.27</td>\n",
       "      <td>NaN</td>\n",
       "      <td>G</td>\n",
       "      <td>0.003797</td>\n",
       "      <td>-19.498837</td>\n",
       "      <td>...</td>\n",
       "      <td>NaN</td>\n",
       "      <td>NaN</td>\n",
       "      <td>NaN</td>\n",
       "      <td>224690.0</td>\n",
       "      <td>B-20 6688</td>\n",
       "      <td>NaN</td>\n",
       "      <td>NaN</td>\n",
       "      <td>1.04</td>\n",
       "      <td>K3V</td>\n",
       "      <td>4</td>\n",
       "    </tr>\n",
       "    <tr>\n",
       "      <th>2</th>\n",
       "      <td>H</td>\n",
       "      <td>3</td>\n",
       "      <td>NaN</td>\n",
       "      <td>00 00 01.20</td>\n",
       "      <td>+38 51 33.4</td>\n",
       "      <td>6.61</td>\n",
       "      <td>NaN</td>\n",
       "      <td>G</td>\n",
       "      <td>0.005008</td>\n",
       "      <td>38.859286</td>\n",
       "      <td>...</td>\n",
       "      <td>S</td>\n",
       "      <td>NaN</td>\n",
       "      <td>NaN</td>\n",
       "      <td>224699.0</td>\n",
       "      <td>B+38 5108</td>\n",
       "      <td>NaN</td>\n",
       "      <td>NaN</td>\n",
       "      <td>0.00</td>\n",
       "      <td>B9</td>\n",
       "      <td>S</td>\n",
       "    </tr>\n",
       "    <tr>\n",
       "      <th>3</th>\n",
       "      <td>H</td>\n",
       "      <td>4</td>\n",
       "      <td>NaN</td>\n",
       "      <td>00 00 02.01</td>\n",
       "      <td>-51 53 36.8</td>\n",
       "      <td>8.06</td>\n",
       "      <td>NaN</td>\n",
       "      <td>H</td>\n",
       "      <td>0.008382</td>\n",
       "      <td>-51.893546</td>\n",
       "      <td>...</td>\n",
       "      <td>S</td>\n",
       "      <td>NaN</td>\n",
       "      <td>NaN</td>\n",
       "      <td>224707.0</td>\n",
       "      <td>NaN</td>\n",
       "      <td>NaN</td>\n",
       "      <td>P-52 12237</td>\n",
       "      <td>0.43</td>\n",
       "      <td>F0V</td>\n",
       "      <td>2</td>\n",
       "    </tr>\n",
       "    <tr>\n",
       "      <th>4</th>\n",
       "      <td>H</td>\n",
       "      <td>5</td>\n",
       "      <td>NaN</td>\n",
       "      <td>00 00 02.39</td>\n",
       "      <td>-40 35 28.4</td>\n",
       "      <td>8.55</td>\n",
       "      <td>NaN</td>\n",
       "      <td>H</td>\n",
       "      <td>0.009965</td>\n",
       "      <td>-40.591224</td>\n",
       "      <td>...</td>\n",
       "      <td>NaN</td>\n",
       "      <td>NaN</td>\n",
       "      <td>NaN</td>\n",
       "      <td>224705.0</td>\n",
       "      <td>NaN</td>\n",
       "      <td>C-41 15372</td>\n",
       "      <td>P-41  9991</td>\n",
       "      <td>0.95</td>\n",
       "      <td>G8III</td>\n",
       "      <td>2</td>\n",
       "    </tr>\n",
       "  </tbody>\n",
       "</table>\n",
       "<p>5 rows × 78 columns</p>\n",
       "</div>"
      ],
      "text/plain": [
       "  Catalog  HIP Proxy        RAhms        DEdms  Vmag  VarFlag r_Vmag  \\\n",
       "0       H    1   NaN  00 00 00.22  +01 05 20.4  9.10      NaN      H   \n",
       "1       H    2   NaN  00 00 00.91  -19 29 55.8  9.27      NaN      G   \n",
       "2       H    3   NaN  00 00 01.20  +38 51 33.4  6.61      NaN      G   \n",
       "3       H    4   NaN  00 00 02.01  -51 53 36.8  8.06      NaN      H   \n",
       "4       H    5   NaN  00 00 02.39  -40 35 28.4  8.55      NaN      H   \n",
       "\n",
       "      RAdeg      DEdeg  ... Survey  Chart  Notes        HD         BD  \\\n",
       "0  0.000912   1.089013  ...      S    NaN    NaN  224700.0  B+00 5077   \n",
       "1  0.003797 -19.498837  ...    NaN    NaN    NaN  224690.0  B-20 6688   \n",
       "2  0.005008  38.859286  ...      S    NaN    NaN  224699.0  B+38 5108   \n",
       "3  0.008382 -51.893546  ...      S    NaN    NaN  224707.0        NaN   \n",
       "4  0.009965 -40.591224  ...    NaN    NaN    NaN  224705.0        NaN   \n",
       "\n",
       "          CoD         CPD  (V-I)red  SpType  r_SpType  \n",
       "0         NaN         NaN      0.66      F5         S  \n",
       "1         NaN         NaN      1.04     K3V         4  \n",
       "2         NaN         NaN      0.00      B9         S  \n",
       "3         NaN  P-52 12237      0.43     F0V         2  \n",
       "4  C-41 15372  P-41  9991      0.95   G8III         2  \n",
       "\n",
       "[5 rows x 78 columns]"
      ]
     },
     "execution_count": 82,
     "metadata": {},
     "output_type": "execute_result"
    }
   ],
   "source": [
    "import pandas as pd\n",
    "\n",
    "data = pd.read_csv('hipparcos-voidmain.csv')\n",
    "\n",
    "data.head()"
   ]
  },
  {
   "cell_type": "code",
   "execution_count": 83,
   "id": "e4cbe11d",
   "metadata": {},
   "outputs": [
    {
     "data": {
      "text/plain": [
       "Index(['Catalog', 'HIP', 'Proxy', 'RAhms', 'DEdms', 'Vmag', 'VarFlag',\n",
       "       'r_Vmag', 'RAdeg', 'DEdeg', 'AstroRef', 'Plx', 'pmRA', 'pmDE',\n",
       "       'e_RAdeg', 'e_DEdeg', 'e_Plx', 'e_pmRA', 'e_pmDE', 'DE:RA', 'Plx:RA',\n",
       "       'Plx:DE', 'pmRA:RA', 'pmRA:DE', 'pmRA:Plx', 'pmDE:RA', 'pmDE:DE',\n",
       "       'pmDE:Plx', 'pmDE:pmRA', 'F1', 'F2', '---', 'BTmag', 'e_BTmag', 'VTmag',\n",
       "       'e_VTmag', 'm_BTmag', 'B-V', 'e_B-V', 'r_B-V', 'V-I', 'e_V-I', 'r_V-I',\n",
       "       'CombMag', 'Hpmag', 'e_Hpmag', 'Hpscat', 'o_Hpmag', 'm_Hpmag', 'Hpmax',\n",
       "       'HPmin', 'Period', 'HvarType', 'moreVar', 'morePhoto', 'CCDM', 'n_CCDM',\n",
       "       'Nsys', 'Ncomp', 'MultFlag', 'Source', 'Qual', 'm_HIP', 'theta', 'rho',\n",
       "       'e_rho', 'dHp', 'e_dHp', 'Survey', 'Chart', 'Notes', 'HD', 'BD', 'CoD',\n",
       "       'CPD', '(V-I)red', 'SpType', 'r_SpType'],\n",
       "      dtype='object')"
      ]
     },
     "execution_count": 83,
     "metadata": {},
     "output_type": "execute_result"
    }
   ],
   "source": [
    "data.columns"
   ]
  },
  {
   "cell_type": "markdown",
   "id": "3ba72862",
   "metadata": {},
   "source": [
    "## Nettoyage et Exploration des données\n",
    "\n",
    "### Identifier et gérer les valeurs manquantes. Explorer plusieurs statégies"
   ]
  },
  {
   "cell_type": "code",
   "execution_count": 84,
   "id": "c46a2f4b",
   "metadata": {},
   "outputs": [
    {
     "name": "stdout",
     "output_type": "stream",
     "text": [
      "(118218, 78)\n",
      "(118218, 60)\n"
     ]
    }
   ],
   "source": [
    "print(data.shape)\n",
    "# Supprimer les colonnes non pertinentes\n",
    "columns_to_drop = ['Catalog', 'HIP', 'HD', 'BD', 'CoD', 'CPD', 'CCDM', 'Proxy', 'RAhms', 'DEdms', 'Notes', 'Survey', 'Chart', 'F1', 'F2', '---', 'AstroRef', 'Source']  # Ajoute d'autres colonnes à supprimer ici\n",
    "data = data.drop(columns=columns_to_drop, errors='ignore') # errors='ignore' pour ne pas planter si une colonne n'existe pas\n",
    "data.head()\n",
    "print(data.shape)"
   ]
  },
  {
   "cell_type": "code",
   "execution_count": 85,
   "id": "5d718481",
   "metadata": {},
   "outputs": [
    {
     "name": "stdout",
     "output_type": "stream",
     "text": [
      "(118218, 60)\n",
      "(118218, 42)\n"
     ]
    }
   ],
   "source": [
    "print(data.shape)\n",
    "pourcent = (data.isna().sum() / len(data))*100  # Pourcentage de valeurs manquantes par colonne\n",
    "\n",
    "# Séléctionner les colonnes contenant plus de 50% de valeurs manquantes\n",
    "# Ces colonnes seront supprimées du dataframe\n",
    "colonnesAEnlever = pourcent[pourcent.values > 30].keys()\n",
    "\n",
    "data = data.drop(columns=colonnesAEnlever)\n",
    "print(data.shape)"
   ]
  },
  {
   "cell_type": "code",
   "execution_count": 87,
   "id": "ae411b2f",
   "metadata": {},
   "outputs": [
    {
     "data": {
      "application/vnd.microsoft.datawrangler.viewer.v0+json": {
       "columns": [
        {
         "name": "SpType",
         "rawType": "object",
         "type": "string"
        },
        {
         "name": "count",
         "rawType": "int64",
         "type": "integer"
        }
       ],
       "ref": "62009dc0-8a28-4504-bfcc-4311302b3b51",
       "rows": [
        [
         "K",
         "32036"
        ],
        [
         "F",
         "25607"
        ],
        [
         "G",
         "22771"
        ],
        [
         "A",
         "18704"
        ],
        [
         "B",
         "10421"
        ],
        [
         "M",
         "4862"
        ],
        [
         "O",
         "265"
        ],
        [
         "C",
         "165"
        ],
        [
         "R",
         "89"
        ],
        [
         "W",
         "75"
        ],
        [
         "s",
         "69"
        ],
        [
         "N",
         "63"
        ],
        [
         "D",
         "27"
        ],
        [
         "S",
         "25"
        ],
        [
         "p",
         "3"
        ],
        [
         "k",
         "1"
        ],
        [
         "(",
         "1"
        ]
       ],
       "shape": {
        "columns": 1,
        "rows": 17
       }
      },
      "text/plain": [
       "SpType\n",
       "K    32036\n",
       "F    25607\n",
       "G    22771\n",
       "A    18704\n",
       "B    10421\n",
       "M     4862\n",
       "O      265\n",
       "C      165\n",
       "R       89\n",
       "W       75\n",
       "s       69\n",
       "N       63\n",
       "D       27\n",
       "S       25\n",
       "p        3\n",
       "k        1\n",
       "(        1\n",
       "Name: count, dtype: int64"
      ]
     },
     "execution_count": 87,
     "metadata": {},
     "output_type": "execute_result"
    }
   ],
   "source": [
    "data['SpType'].value_counts()"
   ]
  },
  {
   "cell_type": "code",
   "execution_count": 86,
   "id": "75c50190",
   "metadata": {},
   "outputs": [
    {
     "data": {
      "application/vnd.microsoft.datawrangler.viewer.v0+json": {
       "columns": [
        {
         "name": "SpType",
         "rawType": "object",
         "type": "string"
        },
        {
         "name": "count",
         "rawType": "int64",
         "type": "integer"
        }
       ],
       "ref": "e10df62f-8674-4e6f-8cf4-8b2f8209cceb",
       "rows": [
        [
         "K",
         "32036"
        ],
        [
         "F",
         "25607"
        ],
        [
         "G",
         "22771"
        ],
        [
         "A",
         "18704"
        ],
        [
         "B",
         "10421"
        ],
        [
         "M",
         "4862"
        ],
        [
         "O",
         "265"
        ],
        [
         "C",
         "165"
        ],
        [
         "R",
         "89"
        ],
        [
         "W",
         "75"
        ],
        [
         "s",
         "69"
        ],
        [
         "N",
         "63"
        ],
        [
         "D",
         "27"
        ],
        [
         "S",
         "25"
        ],
        [
         "p",
         "3"
        ],
        [
         "k",
         "1"
        ],
        [
         "(",
         "1"
        ]
       ],
       "shape": {
        "columns": 1,
        "rows": 17
       }
      },
      "text/plain": [
       "SpType\n",
       "K    32036\n",
       "F    25607\n",
       "G    22771\n",
       "A    18704\n",
       "B    10421\n",
       "M     4862\n",
       "O      265\n",
       "C      165\n",
       "R       89\n",
       "W       75\n",
       "s       69\n",
       "N       63\n",
       "D       27\n",
       "S       25\n",
       "p        3\n",
       "k        1\n",
       "(        1\n",
       "Name: count, dtype: int64"
      ]
     },
     "execution_count": 86,
     "metadata": {},
     "output_type": "execute_result"
    }
   ],
   "source": [
    "# au vu du grand nombre de sptype différents, on ne garde que la première lettre.\n",
    "data['SpType'] = data['SpType'].apply(lambda x: x[0] if pd.notnull(x) and len(x) > 0 else x)\n",
    "data['SpType'].value_counts()"
   ]
  },
  {
   "cell_type": "code",
   "execution_count": null,
   "id": "890941f6",
   "metadata": {},
   "outputs": [
    {
     "data": {
      "application/vnd.microsoft.datawrangler.viewer.v0+json": {
       "columns": [
        {
         "name": "index",
         "rawType": "object",
         "type": "string"
        },
        {
         "name": "0",
         "rawType": "int64",
         "type": "integer"
        }
       ],
       "ref": "e7e7d551-f7c0-4699-846b-d3ba7d0cfbef",
       "rows": [
        [
         "Vmag",
         "0"
        ],
        [
         "r_Vmag",
         "1"
        ],
        [
         "RAdeg",
         "0"
        ],
        [
         "DEdeg",
         "0"
        ],
        [
         "Plx",
         "0"
        ],
        [
         "pmRA",
         "0"
        ],
        [
         "pmDE",
         "0"
        ],
        [
         "e_RAdeg",
         "0"
        ],
        [
         "e_DEdeg",
         "0"
        ],
        [
         "e_Plx",
         "0"
        ],
        [
         "e_pmRA",
         "0"
        ],
        [
         "e_pmDE",
         "0"
        ],
        [
         "DE:RA",
         "0"
        ],
        [
         "Plx:RA",
         "0"
        ],
        [
         "Plx:DE",
         "0"
        ],
        [
         "pmRA:RA",
         "0"
        ],
        [
         "pmRA:DE",
         "0"
        ],
        [
         "pmRA:Plx",
         "0"
        ],
        [
         "pmDE:RA",
         "0"
        ],
        [
         "pmDE:DE",
         "0"
        ],
        [
         "pmDE:Plx",
         "0"
        ],
        [
         "pmDE:pmRA",
         "0"
        ],
        [
         "BTmag",
         "0"
        ],
        [
         "e_BTmag",
         "0"
        ],
        [
         "VTmag",
         "0"
        ],
        [
         "e_VTmag",
         "0"
        ],
        [
         "B-V",
         "0"
        ],
        [
         "e_B-V",
         "0"
        ],
        [
         "r_B-V",
         "1281"
        ],
        [
         "V-I",
         "0"
        ],
        [
         "e_V-I",
         "0"
        ],
        [
         "r_V-I",
         "0"
        ],
        [
         "Hpmag",
         "0"
        ],
        [
         "e_Hpmag",
         "0"
        ],
        [
         "Hpscat",
         "0"
        ],
        [
         "o_Hpmag",
         "0"
        ],
        [
         "Hpmax",
         "0"
        ],
        [
         "HPmin",
         "0"
        ],
        [
         "Ncomp",
         "0"
        ],
        [
         "(V-I)red",
         "0"
        ],
        [
         "SpType",
         "3034"
        ],
        [
         "r_SpType",
         "3034"
        ]
       ],
       "shape": {
        "columns": 1,
        "rows": 42
       }
      },
      "text/plain": [
       "Vmag            0\n",
       "r_Vmag          1\n",
       "RAdeg           0\n",
       "DEdeg           0\n",
       "Plx             0\n",
       "pmRA            0\n",
       "pmDE            0\n",
       "e_RAdeg         0\n",
       "e_DEdeg         0\n",
       "e_Plx           0\n",
       "e_pmRA          0\n",
       "e_pmDE          0\n",
       "DE:RA           0\n",
       "Plx:RA          0\n",
       "Plx:DE          0\n",
       "pmRA:RA         0\n",
       "pmRA:DE         0\n",
       "pmRA:Plx        0\n",
       "pmDE:RA         0\n",
       "pmDE:DE         0\n",
       "pmDE:Plx        0\n",
       "pmDE:pmRA       0\n",
       "BTmag           0\n",
       "e_BTmag         0\n",
       "VTmag           0\n",
       "e_VTmag         0\n",
       "B-V             0\n",
       "e_B-V           0\n",
       "r_B-V        1281\n",
       "V-I             0\n",
       "e_V-I           0\n",
       "r_V-I           0\n",
       "Hpmag           0\n",
       "e_Hpmag         0\n",
       "Hpscat          0\n",
       "o_Hpmag         0\n",
       "Hpmax           0\n",
       "HPmin           0\n",
       "Ncomp           0\n",
       "(V-I)red        0\n",
       "SpType       3034\n",
       "r_SpType     3034\n",
       "dtype: int64"
      ]
     },
     "execution_count": 89,
     "metadata": {},
     "output_type": "execute_result"
    }
   ],
   "source": [
    "# Remplir les valeurs manquantes dans les colonnes numériques avec la moyenne de chaque colonne\n",
    "numeric_cols = data.select_dtypes(include=['number']).columns.tolist()\n",
    "data[numeric_cols] = data[numeric_cols].fillna(data[numeric_cols].mean())\n",
    "data.isna().sum()"
   ]
  },
  {
   "cell_type": "code",
   "execution_count": null,
   "id": "33dd754d",
   "metadata": {},
   "outputs": [
    {
     "data": {
      "application/vnd.microsoft.datawrangler.viewer.v0+json": {
       "columns": [
        {
         "name": "index",
         "rawType": "object",
         "type": "string"
        },
        {
         "name": "0",
         "rawType": "int64",
         "type": "integer"
        }
       ],
       "ref": "5fe92a79-41eb-4d86-865f-accdadf107b1",
       "rows": [
        [
         "Vmag",
         "0"
        ],
        [
         "r_Vmag",
         "0"
        ],
        [
         "RAdeg",
         "0"
        ],
        [
         "DEdeg",
         "0"
        ],
        [
         "Plx",
         "0"
        ],
        [
         "pmRA",
         "0"
        ],
        [
         "pmDE",
         "0"
        ],
        [
         "e_RAdeg",
         "0"
        ],
        [
         "e_DEdeg",
         "0"
        ],
        [
         "e_Plx",
         "0"
        ],
        [
         "e_pmRA",
         "0"
        ],
        [
         "e_pmDE",
         "0"
        ],
        [
         "DE:RA",
         "0"
        ],
        [
         "Plx:RA",
         "0"
        ],
        [
         "Plx:DE",
         "0"
        ],
        [
         "pmRA:RA",
         "0"
        ],
        [
         "pmRA:DE",
         "0"
        ],
        [
         "pmRA:Plx",
         "0"
        ],
        [
         "pmDE:RA",
         "0"
        ],
        [
         "pmDE:DE",
         "0"
        ],
        [
         "pmDE:Plx",
         "0"
        ],
        [
         "pmDE:pmRA",
         "0"
        ],
        [
         "BTmag",
         "0"
        ],
        [
         "e_BTmag",
         "0"
        ],
        [
         "VTmag",
         "0"
        ],
        [
         "e_VTmag",
         "0"
        ],
        [
         "B-V",
         "0"
        ],
        [
         "e_B-V",
         "0"
        ],
        [
         "r_B-V",
         "0"
        ],
        [
         "V-I",
         "0"
        ],
        [
         "e_V-I",
         "0"
        ],
        [
         "r_V-I",
         "0"
        ],
        [
         "Hpmag",
         "0"
        ],
        [
         "e_Hpmag",
         "0"
        ],
        [
         "Hpscat",
         "0"
        ],
        [
         "o_Hpmag",
         "0"
        ],
        [
         "Hpmax",
         "0"
        ],
        [
         "HPmin",
         "0"
        ],
        [
         "Ncomp",
         "0"
        ],
        [
         "(V-I)red",
         "0"
        ],
        [
         "SpType",
         "0"
        ],
        [
         "r_SpType",
         "0"
        ]
       ],
       "shape": {
        "columns": 1,
        "rows": 42
       }
      },
      "text/plain": [
       "Vmag         0\n",
       "r_Vmag       0\n",
       "RAdeg        0\n",
       "DEdeg        0\n",
       "Plx          0\n",
       "pmRA         0\n",
       "pmDE         0\n",
       "e_RAdeg      0\n",
       "e_DEdeg      0\n",
       "e_Plx        0\n",
       "e_pmRA       0\n",
       "e_pmDE       0\n",
       "DE:RA        0\n",
       "Plx:RA       0\n",
       "Plx:DE       0\n",
       "pmRA:RA      0\n",
       "pmRA:DE      0\n",
       "pmRA:Plx     0\n",
       "pmDE:RA      0\n",
       "pmDE:DE      0\n",
       "pmDE:Plx     0\n",
       "pmDE:pmRA    0\n",
       "BTmag        0\n",
       "e_BTmag      0\n",
       "VTmag        0\n",
       "e_VTmag      0\n",
       "B-V          0\n",
       "e_B-V        0\n",
       "r_B-V        0\n",
       "V-I          0\n",
       "e_V-I        0\n",
       "r_V-I        0\n",
       "Hpmag        0\n",
       "e_Hpmag      0\n",
       "Hpscat       0\n",
       "o_Hpmag      0\n",
       "Hpmax        0\n",
       "HPmin        0\n",
       "Ncomp        0\n",
       "(V-I)red     0\n",
       "SpType       0\n",
       "r_SpType     0\n",
       "dtype: int64"
      ]
     },
     "execution_count": 95,
     "metadata": {},
     "output_type": "execute_result"
    }
   ],
   "source": [
    "# Supprimer les lignes avec des valeurs manquantes dans les colonnes non numériques\n",
    "data.dropna(inplace=True)\n",
    "data.isna().sum()"
   ]
  },
  {
   "cell_type": "markdown",
   "id": "b55fc54f",
   "metadata": {},
   "source": [
    "### Rechercher et traiter les valeurs aberrantes (outliers) dans certaines colonnes (par exemple, en utilisant des boxplots ou des méthodes statistiques)."
   ]
  },
  {
   "cell_type": "markdown",
   "id": "99bae8cd",
   "metadata": {},
   "source": [
    "### Convertir les types de données si nécessaire (par exemple, s'assurer que les colonnes d'identifiants sont bien des chaînes de caractères).\n"
   ]
  },
  {
   "cell_type": "markdown",
   "id": "a4235c26",
   "metadata": {},
   "source": [
    "## Analyse descriptive :\n",
    "\n",
    "### Calculer des statistiques descriptives pour différentes colonnes (moyenne, médiane, écart-type, minimum, maximum, quartiles) sur l'ensemble des données ou des sous-ensembles de colonnes."
   ]
  },
  {
   "cell_type": "markdown",
   "id": "cd41dcab",
   "metadata": {},
   "source": [
    "### Créer des histogrammes et des diagrammes de dispersion pour visualiser la distribution des données et les relations entre les variables."
   ]
  },
  {
   "cell_type": "markdown",
   "id": "9a933f39",
   "metadata": {},
   "source": [
    "### Calculer la matrice de corrélation et l'interpréter. Quelles variables sont fortement corrélées ?"
   ]
  },
  {
   "cell_type": "markdown",
   "id": "465b4287",
   "metadata": {},
   "source": [
    "## Visualisation\n",
    "\n",
    "### Utiliser des bibliothèques comme Matplotlib ou Seaborn pour créer des visualisations plus avancées."
   ]
  },
  {
   "cell_type": "markdown",
   "id": "e660480f",
   "metadata": {},
   "source": [
    "### Représenter la position des étoiles sur une carte du ciel (en utilisant RA et Dec)."
   ]
  },
  {
   "cell_type": "markdown",
   "id": "de5a18f5",
   "metadata": {},
   "source": [
    "### Explorer les relations entre la magnitude, la couleur et la distance des étoiles."
   ]
  },
  {
   "cell_type": "markdown",
   "id": "ab72f175",
   "metadata": {},
   "source": [
    "## Feature Engineering\n",
    "\n",
    "### Créer de nouvelles colonnes à partir des colonnes existantes. Par exemple, calculer la distance des étoiles à partir de la parallaxe (distance = 1 / parallaxe). Attention aux unités !"
   ]
  },
  {
   "cell_type": "markdown",
   "id": "74713743",
   "metadata": {},
   "source": [
    "### Créer des catégories d'étoiles en fonction de leur type spectral ou de leur variabilité."
   ]
  },
  {
   "cell_type": "markdown",
   "id": "69a52945",
   "metadata": {},
   "source": [
    "## Machine Learning\n",
    "\n",
    "### Prédire le type spectral d'une étoile à partir de ses autres caractéristiques."
   ]
  },
  {
   "cell_type": "markdown",
   "id": "17723d5a",
   "metadata": {},
   "source": [
    "### Regrouper les étoiles en clusters en fonction de leurs propriétés (clustering)."
   ]
  },
  {
   "cell_type": "markdown",
   "id": "dd96ccec",
   "metadata": {},
   "source": [
    "### Détecter les étoiles variables."
   ]
  },
  {
   "cell_type": "markdown",
   "id": "d5e0a694",
   "metadata": {},
   "source": []
  }
 ],
 "metadata": {
  "kernelspec": {
   "display_name": "Python 3",
   "language": "python",
   "name": "python3"
  },
  "language_info": {
   "codemirror_mode": {
    "name": "ipython",
    "version": 3
   },
   "file_extension": ".py",
   "mimetype": "text/x-python",
   "name": "python",
   "nbconvert_exporter": "python",
   "pygments_lexer": "ipython3",
   "version": "3.11.9"
  }
 },
 "nbformat": 4,
 "nbformat_minor": 5
}
